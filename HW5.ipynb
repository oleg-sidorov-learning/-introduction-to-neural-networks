{
 "cells": [
  {
   "cell_type": "markdown",
   "metadata": {
    "id": "vQnDWSn8TEOl"
   },
   "source": [
    "# Введение в искусственные нейронные сети\n",
    "# Урок 5. Рекуррентные нейронные сети"
   ]
  },
  {
   "cell_type": "markdown",
   "metadata": {
    "id": "TxSD_P28_Qxr"
   },
   "source": [
    "# Разбор урока"
   ]
  },
  {
   "cell_type": "markdown",
   "metadata": {
    "id": "Ft9WGWNOSeHi"
   },
   "source": [
    "## Построение сети LSTM для оценки отзывов IMDB"
   ]
  },
  {
   "cell_type": "code",
   "execution_count": null,
   "metadata": {
    "id": "wuI6h_TyEhvl"
   },
   "outputs": [],
   "source": [
    "import pandas as pd\n",
    "import numpy as np"
   ]
  },
  {
   "cell_type": "code",
   "execution_count": null,
   "metadata": {
    "id": "Un2_7HoaUNtR"
   },
   "outputs": [],
   "source": [
    "from __future__ import print_function\n",
    "\n",
    "from keras.preprocessing import sequence\n",
    "from keras.models import Sequential\n",
    "from keras.layers import Dense, Embedding\n",
    "from keras.layers import LSTM\n",
    "from keras.datasets import imdb"
   ]
  },
  {
   "cell_type": "code",
   "execution_count": null,
   "metadata": {
    "colab": {
     "base_uri": "https://localhost:8080/"
    },
    "executionInfo": {
     "elapsed": 5300,
     "status": "ok",
     "timestamp": 1622966357087,
     "user": {
      "displayName": "Olga Gurr",
      "photoUrl": "",
      "userId": "01511282637848373828"
     },
     "user_tz": -180
    },
    "id": "IM1n34PCTEPk",
    "outputId": "c6ece8d9-d727-416d-954d-5e59787a87f2"
   },
   "outputs": [
    {
     "name": "stdout",
     "output_type": "stream",
     "text": [
      "Загрузка данных...\n"
     ]
    },
    {
     "name": "stderr",
     "output_type": "stream",
     "text": [
      "<string>:6: VisibleDeprecationWarning: Creating an ndarray from ragged nested sequences (which is a list-or-tuple of lists-or-tuples-or ndarrays with different lengths or shapes) is deprecated. If you meant to do this, you must specify 'dtype=object' when creating the ndarray\n",
      "/usr/local/lib/python3.7/dist-packages/keras/datasets/imdb.py:155: VisibleDeprecationWarning: Creating an ndarray from ragged nested sequences (which is a list-or-tuple of lists-or-tuples-or ndarrays with different lengths or shapes) is deprecated. If you meant to do this, you must specify 'dtype=object' when creating the ndarray\n",
      "  x_train, y_train = np.array(xs[:idx]), np.array(labels[:idx])\n",
      "/usr/local/lib/python3.7/dist-packages/keras/datasets/imdb.py:156: VisibleDeprecationWarning: Creating an ndarray from ragged nested sequences (which is a list-or-tuple of lists-or-tuples-or ndarrays with different lengths or shapes) is deprecated. If you meant to do this, you must specify 'dtype=object' when creating the ndarray\n",
      "  x_test, y_test = np.array(xs[idx:]), np.array(labels[idx:])\n"
     ]
    },
    {
     "name": "stdout",
     "output_type": "stream",
     "text": [
      "25000 тренировочные последовательности\n",
      "25000 тестовые последовательности\n",
      "Pad последовательности (примеров в x единицу времени)\n",
      "x_train shape: (25000, 80)\n",
      "x_test shape: (25000, 80)\n"
     ]
    }
   ],
   "source": [
    "max_features = 16000\n",
    "\n",
    "# обрезание текстов после данного количества слов (среди top max_features наиболее используемые слова)\n",
    "maxlen = 80\n",
    "\n",
    "print('Загрузка данных...')\n",
    "(x_train, y_train), (x_test, y_test) = imdb.load_data(num_words=max_features)\n",
    "print(len(x_train), 'тренировочные последовательности')\n",
    "print(len(x_test), 'тестовые последовательности')\n",
    "\n",
    "print('Pad последовательности (примеров в x единицу времени)')\n",
    "x_train = sequence.pad_sequences(x_train, maxlen=maxlen)\n",
    "x_test = sequence.pad_sequences(x_test, maxlen=maxlen)\n",
    "print('x_train shape:', x_train.shape)\n",
    "print('x_test shape:', x_test.shape)"
   ]
  },
  {
   "cell_type": "code",
   "execution_count": null,
   "metadata": {
    "colab": {
     "base_uri": "https://localhost:8080/"
    },
    "executionInfo": {
     "elapsed": 291,
     "status": "ok",
     "timestamp": 1622966362058,
     "user": {
      "displayName": "Olga Gurr",
      "photoUrl": "",
      "userId": "01511282637848373828"
     },
     "user_tz": -180
    },
    "id": "R22U-vONRiX9",
    "outputId": "838b2e80-c16b-43c4-e524-90125f08dbeb"
   },
   "outputs": [
    {
     "name": "stdout",
     "output_type": "stream",
     "text": [
      "Построение модели...\n",
      "WARNING:tensorflow:Layer lstm_3 will not use cuDNN kernels since it doesn't meet the criteria. It will use a generic GPU kernel as fallback when running on GPU.\n"
     ]
    }
   ],
   "source": [
    "# https://keras.io/examples/nlp/bidirectional_lstm_imdb/\n",
    "\n",
    "print('Построение модели...')\n",
    "model = Sequential()\n",
    "\n",
    "model.add(Embedding(max_features, 128))\n",
    "model.add(LSTM(128, dropout=0.2, recurrent_dropout=0.2))\n",
    "\n",
    "model.add(Dense(1, activation='sigmoid'))\n",
    "\n",
    "# стоит попробовать использовать другие оптимайзер и другие конфигурации оптимайзеров \n",
    "model.compile(loss='binary_crossentropy',\n",
    "              optimizer='adam',\n",
    "              metrics=['accuracy'])\n"
   ]
  },
  {
   "cell_type": "code",
   "execution_count": null,
   "metadata": {
    "colab": {
     "base_uri": "https://localhost:8080/"
    },
    "executionInfo": {
     "elapsed": 113327,
     "status": "ok",
     "timestamp": 1622966497398,
     "user": {
      "displayName": "Olga Gurr",
      "photoUrl": "",
      "userId": "01511282637848373828"
     },
     "user_tz": -180
    },
    "id": "g6GFt6iHDK71",
    "outputId": "30fcdc60-7bf4-456d-a0d9-46a97f375112"
   },
   "outputs": [
    {
     "name": "stdout",
     "output_type": "stream",
     "text": [
      "Процесс обучения...\n",
      "500/500 [==============================] - 102s 162ms/step - loss: 0.5163 - accuracy: 0.7243 - val_loss: 0.3758 - val_accuracy: 0.8352\n",
      "500/500 [==============================] - 10s 21ms/step - loss: 0.3758 - accuracy: 0.8352\n",
      "Результат при тестировании: 0.37578505277633667\n",
      "Тестовая точность: 0.8352400064468384\n"
     ]
    }
   ],
   "source": [
    "batch_size = 50 # увеличьте значение для ускорения обучения\n",
    "\n",
    "print('Процесс обучения...')\n",
    "model.fit(x_train, y_train,\n",
    "          batch_size=batch_size,\n",
    "          epochs=1, # увеличьте при необходимости\n",
    "          validation_data=(x_test, y_test))\n",
    "score, acc = model.evaluate(x_test, y_test,\n",
    "                            batch_size=batch_size)\n",
    "print('Результат при тестировании:', score)\n",
    "print('Тестовая точность:', acc)"
   ]
  },
  {
   "cell_type": "markdown",
   "metadata": {
    "id": "jDhl5zmdWNF4"
   },
   "source": [
    "## Построение сети GRU на тексте Алиса в стране чудес"
   ]
  },
  {
   "cell_type": "markdown",
   "metadata": {
    "id": "aGp9JAm_TEPr"
   },
   "source": [
    "Давайте также посмотрим пример в которм будет использоваться другой класс задач - генерация текста на основе тренировочного текста. В задачу нейросети будет входить:\n",
    "* обучившись на тексте Алиса в стране чудес, начать генерировать текст, похожий на тот, что можно встретить в этой книге. \n",
    "* Также в этом примере будет использоваться GRU."
   ]
  },
  {
   "cell_type": "code",
   "execution_count": null,
   "metadata": {
    "colab": {
     "base_uri": "https://localhost:8080/"
    },
    "executionInfo": {
     "elapsed": 27944,
     "status": "ok",
     "timestamp": 1622967195086,
     "user": {
      "displayName": "Olga Gurr",
      "photoUrl": "",
      "userId": "01511282637848373828"
     },
     "user_tz": -180
    },
    "id": "-4wb54daYWqF",
    "outputId": "aa0de183-b0bb-40bf-c0f6-6e65229d601a"
   },
   "outputs": [
    {
     "name": "stdout",
     "output_type": "stream",
     "text": [
      "Mounted at /content/drive\n"
     ]
    }
   ],
   "source": [
    "from google.colab import drive\n",
    "drive.mount('/content/drive')"
   ]
  },
  {
   "cell_type": "code",
   "execution_count": null,
   "metadata": {
    "colab": {
     "base_uri": "https://localhost:8080/"
    },
    "executionInfo": {
     "elapsed": 366138,
     "status": "ok",
     "timestamp": 1622967996800,
     "user": {
      "displayName": "Olga Gurr",
      "photoUrl": "",
      "userId": "01511282637848373828"
     },
     "user_tz": -180
    },
    "id": "Qi_ZLAgdTEPt",
    "outputId": "4b2285c8-fe72-4121-d90b-d55910d21677"
   },
   "outputs": [
    {
     "name": "stdout",
     "output_type": "stream",
     "text": [
      "==================================================\n",
      "Итерация #: 0\n",
      "1241/1241 [==============================] - 18s 8ms/step - loss: 2.6007\n",
      "Генерация из посева:  impatient\n",
      " impatient the was the was the was the was the was the was the was the was the was the was the was the was the==================================================\n",
      "Итерация #: 1\n",
      "1241/1241 [==============================] - 10s 8ms/step - loss: 1.9104\n",
      "Генерация из посева: seemed qui\n",
      "seemed quite the said the could the said the could the said the could the said the could the said the could th==================================================\n",
      "Итерация #: 2\n",
      "1241/1241 [==============================] - 10s 8ms/step - loss: 1.7575\n",
      "Генерация из посева: tle boy, a\n",
      "tle boy, and the course the course the course the course the course the course the course the course the cours==================================================\n",
      "Итерация #: 3\n",
      "1241/1241 [==============================] - 10s 8ms/step - loss: 1.6584\n",
      "Генерация из посева: pose so, s\n",
      "pose so, so she said the morsel to herself the project gutenberg-the said the morsel to herself the project gu==================================================\n",
      "Итерация #: 4\n",
      "1241/1241 [==============================] - 10s 8ms/step - loss: 1.5835\n",
      "Генерация из посева: ited till \n",
      "ited till the could not the could not the could not the could not the could not the could not the could not th==================================================\n",
      "Итерация #: 5\n",
      "1241/1241 [==============================] - 10s 8ms/step - loss: 1.5235\n",
      "Генерация из посева:  the queen\n",
      " the queen was she was a little the stark to herself the that she was a little the stark to herself the that s==================================================\n",
      "Итерация #: 6\n",
      "1241/1241 [==============================] - 10s 8ms/step - loss: 1.4728\n",
      "Генерация из посева:  as the do\n",
      " as the dormouse the mouse, so she was a little she said to herself the rabbit as she was a little she said to==================================================\n",
      "Итерация #: 7\n",
      "1241/1241 [==============================] - 10s 8ms/step - loss: 1.4293\n",
      "Генерация из посева: , and reti\n",
      ", and retime with the project gutenberg-tm electronic work or any of the project gutenberg-tm electronic work ==================================================\n",
      "Итерация #: 8\n",
      "1241/1241 [==============================] - 10s 8ms/step - loss: 1.3922\n",
      "Генерация из посева: t back to \n",
      "t back to the three grown the rabbit as she said the hatter with the other the stood the sook her find her han==================================================\n",
      "Итерация #: 9\n",
      "1241/1241 [==============================] - 10s 8ms/step - loss: 1.3604\n",
      "Генерация из посева: d alice. o\n",
      "d alice. of course in a long a selped to the part a little beginning and a can read of the project gutenberg-t==================================================\n",
      "Итерация #: 10\n",
      "1241/1241 [==============================] - 10s 8ms/step - loss: 1.3305\n",
      "Генерация из посева:  then sat \n",
      " then sat down and the project gutenberg-tm electronic works on the project gutenberg-tm electronic works on t==================================================\n",
      "Итерация #: 11\n",
      "1241/1241 [==============================] - 10s 8ms/step - loss: 1.3052\n",
      "Генерация из посева: t help thi\n",
      "t help thing the white rabbit replied. it was the court, who was a little thing way it was a little thing way ==================================================\n",
      "Итерация #: 12\n",
      "1241/1241 [==============================] - 10s 8ms/step - loss: 1.2815\n",
      "Генерация из посева: caterpilla\n",
      "caterpillar and all the readont on the readont on the readont on the readont on the readont on the readont on ==================================================\n",
      "Итерация #: 13\n",
      "1241/1241 [==============================] - 10s 8ms/step - loss: 1.2608\n",
      "Генерация из посева: he mock tu\n",
      "he mock turtle said, and the gryphon, and the gryphon, and the gryphon, and the gryphon, and the gryphon, and ==================================================\n",
      "Итерация #: 14\n",
      "1241/1241 [==============================] - 10s 8ms/step - loss: 1.2419\n",
      "Генерация из посева: s shrinkin\n",
      "s shrinking and she had not this agreement of the gryphon replied to the project gutenberg-tm electronic works==================================================\n",
      "Итерация #: 15\n",
      "1241/1241 [==============================] - 10s 8ms/step - loss: 1.2232\n",
      "Генерация из посева: neatly spr\n",
      "neatly spreach of the words little thing i dont keep to be a little time the rabbit a convert to the thing a l==================================================\n",
      "Итерация #: 16\n",
      "1241/1241 [==============================] - 10s 8ms/step - loss: 1.2067\n",
      "Генерация из посева: ueen to pl\n",
      "ueen to place of the ground as she went on and the project gutenberg-tm electronic works in the project gutenb==================================================\n",
      "Итерация #: 17\n",
      "1241/1241 [==============================] - 10s 8ms/step - loss: 1.1902\n",
      "Генерация из посева: d draw tre\n",
      "d draw trees the white rabbit in the door of the triel down and a little shat she was the first thing the whit==================================================\n",
      "Итерация #: 18\n",
      "1241/1241 [==============================] - 10s 8ms/step - loss: 1.1767\n",
      "Генерация из посева: ying the s\n",
      "ying the sea-- but the mock turtle said to herself, and she was all the should be no self alice replied to the==================================================\n",
      "Итерация #: 19\n",
      "1241/1241 [==============================] - 10s 8ms/step - loss: 1.1621\n",
      "Генерация из посева:  way. so t\n",
      " way. so they were now, the executioner was a little bit of the words a little bit of the words a little bit o==================================================\n",
      "Итерация #: 20\n",
      "1241/1241 [==============================] - 10s 8ms/step - loss: 1.1497\n",
      "Генерация из посева: es. i coul\n",
      "es. i couldnt her ar his nothing to do the project gutenberg-tm electronic works in a moment the project guten==================================================\n",
      "Итерация #: 21\n",
      "1241/1241 [==============================] - 10s 8ms/step - loss: 1.1366\n",
      "Генерация из посева: , thought \n",
      ", thought alice, they all the thing a great hurry, and the mock turtle was not go on the bottle was not go on ==================================================\n",
      "Итерация #: 22\n",
      "1241/1241 [==============================] - 10s 8ms/step - loss: 1.1253\n",
      "Генерация из посева: peat it, w\n",
      "peat it, who at the mock turtle sighed of herself up and said to herself as she could not a project gutenberg-==================================================\n",
      "Итерация #: 23\n",
      "1241/1241 [==============================] - 10s 8ms/step - loss: 1.1139\n",
      "Генерация из посева: : crumbs w\n",
      ": crumbs was she was a little shat she was a little shat she was a little shat she was a little shat she was a==================================================\n",
      "Итерация #: 24\n",
      "1241/1241 [==============================] - 10s 8ms/step - loss: 1.1032\n",
      "Генерация из посева: urious app\n",
      "urious appeared on the bottle was a little bottle and the shall do not out again, said the caterpillar the sam\n"
     ]
    }
   ],
   "source": [
    "import numpy as np\n",
    "from keras.layers import Dense, Activation\n",
    "from keras.layers.recurrent import SimpleRNN, LSTM, GRU\n",
    "from keras.models import Sequential\n",
    "\n",
    "\n",
    "# построчное чтение из примера с текстом \n",
    "with open('/content/drive/My Drive/Colab Notebooks/114_Neuronets/less_05/alice_in_wonderland.txt', 'rb') as _in:\n",
    "    lines = []\n",
    "    for line in _in:\n",
    "        line = line.strip().lower().decode(\"ascii\", \"ignore\")\n",
    "        if len(line) == 0:\n",
    "            continue\n",
    "        lines.append(line)\n",
    "text = \" \".join(lines)\n",
    "chars = set([c for c in text])\n",
    "nb_chars = len(chars)\n",
    "\n",
    "\n",
    "# создание индекса символов и reverse mapping чтобы передвигаться между значениями numerical\n",
    "# ID and a specific character. The numerical ID will correspond to a column\n",
    "# ID и определенный символ. Numerical ID будет соответсвовать колонке\n",
    "# число при использовании one-hot кодировки для представление входов символов\n",
    "char2index = {c: i for i, c in enumerate(chars)}\n",
    "index2char = {i: c for i, c in enumerate(chars)}\n",
    "\n",
    "# для удобства выберете фиксированную длину последовательность 10 символов \n",
    "SEQLEN, STEP = 10, 1\n",
    "input_chars, label_chars = [], []\n",
    "\n",
    "# конвертация data в серии разных SEQLEN-length субпоследовательностей\n",
    "for i in range(0, len(text) - SEQLEN, STEP):\n",
    "    input_chars.append(text[i: i + SEQLEN])\n",
    "    label_chars.append(text[i + SEQLEN])\n",
    "\n",
    "\n",
    "# Вычисление one-hot encoding входных последовательностей X и следующего символа (the label) y\n",
    "\n",
    "X = np.zeros((len(input_chars), SEQLEN, nb_chars), dtype=np.bool)\n",
    "y = np.zeros((len(input_chars), nb_chars), dtype=np.bool)\n",
    "for i, input_char in enumerate(input_chars):\n",
    "    for j, ch in enumerate(input_char):\n",
    "        X[i, j, char2index[ch]] = 1\n",
    "    y[i, char2index[label_chars[i]]] = 1\n",
    "\n",
    "\n",
    "# установка ряда метапамертров  для нейронной сети и процесса тренировки\n",
    "BATCH_SIZE, HIDDEN_SIZE = 128, 128\n",
    "NUM_ITERATIONS = 25 # 25 должно быть достаточно\n",
    "NUM_EPOCHS_PER_ITERATION = 1\n",
    "NUM_PREDS_PER_EPOCH = 100\n",
    "\n",
    "\n",
    "# Create a super simple recurrent neural network. There is one recurrent\n",
    "# layer that produces an embedding of size HIDDEN_SIZE from the one-hot\n",
    "# encoded input layer. This is followed by a Dense fully-connected layer\n",
    "# across the set of possible next characters, which is converted to a\n",
    "# probability score via a standard softmax activation with a multi-class\n",
    "# cross-entropy loss function linking the prediction to the one-hot\n",
    "# encoding character label.\n",
    "\n",
    "'''\n",
    "Создание очень простой рекуррентной нейронной сети. В ней будет один реккурентный закодированный входной слой. За ним последует полносвязный слой связанный с набором возможных следующих символов, которые конвертированы в вероятностные результаты через стандартную softmax активацию с multi-class cross-encoding loss функцию ссылающуются на предсказание one-hot encoding лейбл символа\n",
    "'''\n",
    "\n",
    "model = Sequential()\n",
    "model.add(\n",
    "    GRU(  # вы можете изменить эту часть на LSTM или SimpleRNN, чтобы попробовать альтернативы\n",
    "        HIDDEN_SIZE,\n",
    "        return_sequences=False,\n",
    "        input_shape=(SEQLEN, nb_chars),\n",
    "        unroll=True\n",
    "    )\n",
    ")\n",
    "model.add(Dense(nb_chars))\n",
    "model.add(Activation(\"softmax\"))\n",
    "model.compile(loss=\"categorical_crossentropy\", optimizer=\"rmsprop\")\n",
    "\n",
    "\n",
    "# выполнение серий тренировочных и демонстрационных итераций \n",
    "for iteration in range(NUM_ITERATIONS):\n",
    "\n",
    "    # для каждой итерации запуск передачи данных в модель \n",
    "    print(\"=\" * 50)\n",
    "    print(\"Итерация #: %d\" % (iteration))\n",
    "    model.fit(X, y, batch_size=BATCH_SIZE, epochs=NUM_EPOCHS_PER_ITERATION)\n",
    "\n",
    "    # Select a random example input sequence.\n",
    "    test_idx = np.random.randint(len(input_chars))\n",
    "    test_chars = input_chars[test_idx]\n",
    "\n",
    "    # для числа шагов предсказаний использование текущей тренируемой модели \n",
    "    # конструирование one-hot encoding для тестирования input и добавление предсказания.\n",
    "    print(\"Генерация из посева: %s\" % (test_chars))\n",
    "    print(test_chars, end=\"\")\n",
    "    for i in range(NUM_PREDS_PER_EPOCH):\n",
    "\n",
    "        # здесь one-hot encoding.\n",
    "        X_test = np.zeros((1, SEQLEN, nb_chars))\n",
    "        for j, ch in enumerate(test_chars):\n",
    "            X_test[0, j, char2index[ch]] = 1\n",
    "\n",
    "        # осуществление предсказания с помощью текущей модели.\n",
    "        pred = model.predict(X_test, verbose=0)[0]\n",
    "        y_pred = index2char[np.argmax(pred)]\n",
    "\n",
    "        # вывод предсказания добавленного к тестовому примеру \n",
    "        print(y_pred, end=\"\")\n",
    "\n",
    "        # инкрементация тестового примера содержащего предсказание\n",
    "        test_chars = test_chars[1:] + y_pred\n",
    "print()\n"
   ]
  },
  {
   "cell_type": "markdown",
   "metadata": {
    "id": "hQUcmzB9_IbJ"
   },
   "source": [
    "# Задание 1\n",
    "Попробуйте обучить нейронную сеть LSTM на любом другом датасете (любимый временной ряд, текст на русском (другом языке) как генератор или классификатор, или прилагаемый набор airline-passengers - пасажиропоток для авиалиний). \n",
    "\n",
    "Опишите, какой результата вы получили? \n",
    "\n",
    "Что помогло вам улучшить ее точность?"
   ]
  },
  {
   "cell_type": "markdown",
   "metadata": {
    "id": "6CPkIiEs_qI0"
   },
   "source": [
    "## Решение\n",
    "Пострим нейронную сеть LSTM на тексте Алиса в стране чудес на английском языке"
   ]
  },
  {
   "cell_type": "markdown",
   "metadata": {
    "id": "U2ijk7mSdSvC"
   },
   "source": [
    "### Читаем библиотеки"
   ]
  },
  {
   "cell_type": "code",
   "execution_count": null,
   "metadata": {
    "id": "fOQLqr11blZS"
   },
   "outputs": [],
   "source": [
    "from tensorflow.keras.preprocessing.sequence import pad_sequences\n",
    "from tensorflow.keras.layers import Embedding, LSTM, Dense, Dropout, Bidirectional\n",
    "from tensorflow.keras.preprocessing.text import Tokenizer\n",
    "from tensorflow.keras.models import Sequential\n",
    "from tensorflow.keras.optimizers import Adam\n",
    "from tensorflow.keras import regularizers\n",
    "import tensorflow.keras.utils as ku \n",
    "import numpy as np "
   ]
  },
  {
   "cell_type": "code",
   "execution_count": null,
   "metadata": {
    "id": "cSUqmSNOb_XZ"
   },
   "outputs": [],
   "source": [
    "from tensorflow.keras.callbacks import EarlyStopping"
   ]
  },
  {
   "cell_type": "markdown",
   "metadata": {
    "id": "ZsniIdAOdPIz"
   },
   "source": [
    "### 1.1 LSTM с длиной словаря 10000, шириной слоя LSTM 10"
   ]
  },
  {
   "cell_type": "code",
   "execution_count": null,
   "metadata": {
    "id": "x5PSqnH3b32r"
   },
   "outputs": [],
   "source": [
    "data = open('/content/drive/My Drive/Colab Notebooks/114_Neuronets/less_05/alice_in_wonderland.txt').read()\n",
    "#Читаем текст\n",
    "corpus = data.lower().split(\"\\n\")"
   ]
  },
  {
   "cell_type": "code",
   "execution_count": null,
   "metadata": {
    "colab": {
     "base_uri": "https://localhost:8080/"
    },
    "executionInfo": {
     "elapsed": 360,
     "status": "ok",
     "timestamp": 1622976704708,
     "user": {
      "displayName": "Olga Gurr",
      "photoUrl": "",
      "userId": "01511282637848373828"
     },
     "user_tz": -180
    },
    "id": "tjcUSybTccyL",
    "outputId": "d6cb728c-aaa6-4ee3-99d3-050b047d03fe"
   },
   "outputs": [
    {
     "data": {
      "text/plain": [
       "['project gutenberg’s alice’s adventures in wonderland, by lewis carroll',\n",
       " '',\n",
       " 'this ebook is for the use of anyone anywhere at no cost and with',\n",
       " 'almost no restrictions whatsoever.  you may copy it, give it away or',\n",
       " 're-use it under the terms of the project gutenberg license included',\n",
       " 'with this ebook or online at www.gutenberg.org',\n",
       " '',\n",
       " '',\n",
       " 'title: alice’s adventures in wonderland',\n",
       " '']"
      ]
     },
     "execution_count": 188,
     "metadata": {
      "tags": []
     },
     "output_type": "execute_result"
    }
   ],
   "source": [
    "corpus[:10]"
   ]
  },
  {
   "cell_type": "markdown",
   "metadata": {
    "id": "_L9sxuxQdZza"
   },
   "source": [
    "#### Исполним токенизацию и кодирование"
   ]
  },
  {
   "cell_type": "code",
   "execution_count": null,
   "metadata": {
    "id": "DZqzz0Wddew7"
   },
   "outputs": [],
   "source": [
    "# Создаем объект для токенизации\n",
    "tokenizer1 = Tokenizer( num_words=10000)\n",
    "\n",
    "tokenizer1.fit_on_texts(corpus)\n",
    "total_words = len(tokenizer1.word_index) + 1  # +1 для символа, который заменяет неизвестные слова\n",
    "\n",
    "# create input sequences using list of tokens\n",
    "input_sequences = []\n",
    "for line in corpus:\n",
    "\ttoken_list = tokenizer1.texts_to_sequences([line])[0]\n",
    "\tfor i in range(1, len(token_list)):\n",
    "\t\tn_gram_sequence = token_list[:i+1]\n",
    "\t\tinput_sequences.append(n_gram_sequence)\n",
    "\n",
    "\n",
    "# pad sequences\n",
    "max_sequence_len = max([len(x) for x in input_sequences])\n",
    "input_sequences = np.array(pad_sequences(input_sequences, maxlen=max_sequence_len, padding='pre'))\n",
    "\n",
    "# create predictors and label\n",
    "predictors, label = input_sequences[:,:-1],input_sequences[:,-1]\n",
    "\n",
    "label = ku.to_categorical(label, num_classes=total_words)"
   ]
  },
  {
   "cell_type": "code",
   "execution_count": null,
   "metadata": {
    "colab": {
     "base_uri": "https://localhost:8080/"
    },
    "executionInfo": {
     "elapsed": 312,
     "status": "ok",
     "timestamp": 1622976724323,
     "user": {
      "displayName": "Olga Gurr",
      "photoUrl": "",
      "userId": "01511282637848373828"
     },
     "user_tz": -180
    },
    "id": "4RmdA7w5djrj",
    "outputId": "dfe8a2e0-ad18-4319-f250-f2ffec0b7286"
   },
   "outputs": [
    {
     "data": {
      "text/plain": [
       "[3397, 4, 367, 1307, 3398, 4, 278, 38, 497, 622]"
      ]
     },
     "execution_count": 190,
     "metadata": {
      "tags": []
     },
     "output_type": "execute_result"
    }
   ],
   "source": [
    "token_list"
   ]
  },
  {
   "cell_type": "code",
   "execution_count": null,
   "metadata": {
    "colab": {
     "base_uri": "https://localhost:8080/",
     "height": 35
    },
    "executionInfo": {
     "elapsed": 281,
     "status": "ok",
     "timestamp": 1622976727808,
     "user": {
      "displayName": "Olga Gurr",
      "photoUrl": "",
      "userId": "01511282637848373828"
     },
     "user_tz": -180
    },
    "id": "neHtAHmhdlMW",
    "outputId": "f17e3484-8da8-4fb5-87ea-28ab459acd19"
   },
   "outputs": [
    {
     "data": {
      "application/vnd.google.colaboratory.intrinsic+json": {
       "type": "string"
      },
      "text/plain": [
       "'in'"
      ]
     },
     "execution_count": 191,
     "metadata": {
      "tags": []
     },
     "output_type": "execute_result"
    }
   ],
   "source": [
    "tokenizer1.index_word[10]"
   ]
  },
  {
   "cell_type": "code",
   "execution_count": null,
   "metadata": {
    "colab": {
     "base_uri": "https://localhost:8080/"
    },
    "executionInfo": {
     "elapsed": 318,
     "status": "ok",
     "timestamp": 1622976730466,
     "user": {
      "displayName": "Olga Gurr",
      "photoUrl": "",
      "userId": "01511282637848373828"
     },
     "user_tz": -180
    },
    "id": "1IpaKvGtds3T",
    "outputId": "35c4e5cd-4ce8-4fa7-e14f-642e271e262f"
   },
   "outputs": [
    {
     "data": {
      "text/plain": [
       "32"
      ]
     },
     "execution_count": 192,
     "metadata": {
      "tags": []
     },
     "output_type": "execute_result"
    }
   ],
   "source": [
    "tokenizer1.word_index['little']"
   ]
  },
  {
   "cell_type": "code",
   "execution_count": null,
   "metadata": {
    "colab": {
     "base_uri": "https://localhost:8080/"
    },
    "executionInfo": {
     "elapsed": 252,
     "status": "ok",
     "timestamp": 1622976733892,
     "user": {
      "displayName": "Olga Gurr",
      "photoUrl": "",
      "userId": "01511282637848373828"
     },
     "user_tz": -180
    },
    "id": "r4YHGcO5d5kY",
    "outputId": "3118ac59-6354-429d-fc1c-5b7d0ca96d0e"
   },
   "outputs": [
    {
     "data": {
      "text/plain": [
       "array([[  0,   0,   0,   0,   0,   0,   0,   0,   0,   0,   0,   0,   0,\n",
       "         22, 444,  31,  24,   1],\n",
       "       [  0,   0,   0,   0,   0,   0,   0,   0,   0,   0,   0,   0,  22,\n",
       "        444,  31,  24,   1, 150],\n",
       "       [  0,   0,   0,   0,   0,   0,   0,   0,   0,   0,   0,  22, 444,\n",
       "         31,  24,   1, 150,   6],\n",
       "       [  0,   0,   0,   0,   0,   0,   0,   0,   0,   0,  22, 444,  31,\n",
       "         24,   1, 150,   6, 707]], dtype=int32)"
      ]
     },
     "execution_count": 193,
     "metadata": {
      "tags": []
     },
     "output_type": "execute_result"
    }
   ],
   "source": [
    "input_sequences[11:15,:]"
   ]
  },
  {
   "cell_type": "code",
   "execution_count": null,
   "metadata": {
    "colab": {
     "base_uri": "https://localhost:8080/"
    },
    "executionInfo": {
     "elapsed": 258,
     "status": "ok",
     "timestamp": 1622976737226,
     "user": {
      "displayName": "Olga Gurr",
      "photoUrl": "",
      "userId": "01511282637848373828"
     },
     "user_tz": -180
    },
    "id": "PPcYOqNNeBkl",
    "outputId": "cc09bf85-2162-49df-8b57-75db219da08d"
   },
   "outputs": [
    {
     "data": {
      "text/plain": [
       "(28231, 3399)"
      ]
     },
     "execution_count": 194,
     "metadata": {
      "tags": []
     },
     "output_type": "execute_result"
    }
   ],
   "source": [
    "label.shape"
   ]
  },
  {
   "cell_type": "markdown",
   "metadata": {
    "id": "v1H3DXAPeFNS"
   },
   "source": [
    "#### Создаем сеть"
   ]
  },
  {
   "cell_type": "code",
   "execution_count": null,
   "metadata": {
    "id": "WTpYe3AReIko"
   },
   "outputs": [],
   "source": [
    "callback = EarlyStopping(monitor='val_accuracy', patience=5) # создаем обратный вызов - callback - тут \"Ранний останов\""
   ]
  },
  {
   "cell_type": "code",
   "execution_count": null,
   "metadata": {
    "colab": {
     "base_uri": "https://localhost:8080/"
    },
    "executionInfo": {
     "elapsed": 421,
     "status": "ok",
     "timestamp": 1622976743787,
     "user": {
      "displayName": "Olga Gurr",
      "photoUrl": "",
      "userId": "01511282637848373828"
     },
     "user_tz": -180
    },
    "id": "FcAPQbU3eWwD",
    "outputId": "a6e5c14f-95aa-4701-be7e-2de17bc770fd"
   },
   "outputs": [
    {
     "name": "stdout",
     "output_type": "stream",
     "text": [
      "Model: \"sequential_12\"\n",
      "_________________________________________________________________\n",
      "Layer (type)                 Output Shape              Param #   \n",
      "=================================================================\n",
      "embedding_12 (Embedding)     (None, 17, 10)            33990     \n",
      "_________________________________________________________________\n",
      "lstm_12 (LSTM)               (None, 10)                840       \n",
      "_________________________________________________________________\n",
      "dropout_12 (Dropout)         (None, 10)                0         \n",
      "_________________________________________________________________\n",
      "dense_24 (Dense)             (None, 1699)              18689     \n",
      "_________________________________________________________________\n",
      "dense_25 (Dense)             (None, 3399)              5778300   \n",
      "=================================================================\n",
      "Total params: 5,831,819\n",
      "Trainable params: 5,831,819\n",
      "Non-trainable params: 0\n",
      "_________________________________________________________________\n",
      "None\n"
     ]
    }
   ],
   "source": [
    "model1 = Sequential()\n",
    "model1.add(Embedding(total_words, 10, input_length=max_sequence_len-1))  # вложение тренируемое для перехода от слова к его векторному коду \n",
    "# на вход вложения (эмбединга) передаем вектор словарь (длина равна словарю, вектор разреженный)), на выход строим вектор из n (тут 10) координат - он плотный\n",
    "\n",
    "model1.add(LSTM(10))\n",
    "model1.add(Dropout( 0.2))\n",
    "model1.add(Dense(total_words/2, activation='relu', kernel_regularizer=regularizers.l2(0.01)))\n",
    "model1.add(Dense(total_words, activation='softmax'))\n",
    "model1.compile(loss='categorical_crossentropy', optimizer='adam', metrics=['accuracy'])\n",
    "print(model1.summary())"
   ]
  },
  {
   "cell_type": "code",
   "execution_count": null,
   "metadata": {
    "colab": {
     "base_uri": "https://localhost:8080/"
    },
    "executionInfo": {
     "elapsed": 117989,
     "status": "ok",
     "timestamp": 1622976868213,
     "user": {
      "displayName": "Olga Gurr",
      "photoUrl": "",
      "userId": "01511282637848373828"
     },
     "user_tz": -180
    },
    "id": "U6XwFEQLefIw",
    "outputId": "15091ac7-ba10-4b84-d8c8-49d66fec401e"
   },
   "outputs": [
    {
     "name": "stdout",
     "output_type": "stream",
     "text": [
      "Epoch 1/100\n",
      "706/706 [==============================] - 7s 8ms/step - loss: 6.3294 - accuracy: 0.0548 - val_loss: 7.1524 - val_accuracy: 0.0719\n",
      "Epoch 2/100\n",
      "706/706 [==============================] - 5s 7ms/step - loss: 5.9414 - accuracy: 0.0553 - val_loss: 7.3440 - val_accuracy: 0.0554\n",
      "Epoch 3/100\n",
      "706/706 [==============================] - 5s 7ms/step - loss: 5.8142 - accuracy: 0.0564 - val_loss: 7.4106 - val_accuracy: 0.0489\n",
      "Epoch 4/100\n",
      "706/706 [==============================] - 5s 7ms/step - loss: 5.7071 - accuracy: 0.0627 - val_loss: 7.5020 - val_accuracy: 0.0586\n",
      "Epoch 5/100\n",
      "706/706 [==============================] - 5s 7ms/step - loss: 5.6158 - accuracy: 0.0734 - val_loss: 7.6192 - val_accuracy: 0.0735\n",
      "Epoch 6/100\n",
      "706/706 [==============================] - 5s 7ms/step - loss: 5.5258 - accuracy: 0.0850 - val_loss: 7.7561 - val_accuracy: 0.0783\n",
      "Epoch 7/100\n",
      "706/706 [==============================] - 5s 7ms/step - loss: 5.4393 - accuracy: 0.0912 - val_loss: 7.8529 - val_accuracy: 0.0712\n",
      "Epoch 8/100\n",
      "706/706 [==============================] - 5s 7ms/step - loss: 5.3756 - accuracy: 0.0950 - val_loss: 7.9833 - val_accuracy: 0.0756\n",
      "Epoch 9/100\n",
      "706/706 [==============================] - 5s 7ms/step - loss: 5.3196 - accuracy: 0.0996 - val_loss: 8.0205 - val_accuracy: 0.0717\n",
      "Epoch 10/100\n",
      "706/706 [==============================] - 5s 7ms/step - loss: 5.2739 - accuracy: 0.1021 - val_loss: 8.0456 - val_accuracy: 0.0749\n",
      "Epoch 11/100\n",
      "706/706 [==============================] - 5s 7ms/step - loss: 5.2377 - accuracy: 0.1068 - val_loss: 8.0757 - val_accuracy: 0.0784\n",
      "Epoch 12/100\n",
      "706/706 [==============================] - 5s 7ms/step - loss: 5.1927 - accuracy: 0.1112 - val_loss: 8.1697 - val_accuracy: 0.0790\n",
      "Epoch 13/100\n",
      "706/706 [==============================] - 5s 7ms/step - loss: 5.1547 - accuracy: 0.1139 - val_loss: 8.2212 - val_accuracy: 0.0838\n",
      "Epoch 14/100\n",
      "706/706 [==============================] - 5s 7ms/step - loss: 5.1073 - accuracy: 0.1197 - val_loss: 8.2996 - val_accuracy: 0.0792\n",
      "Epoch 15/100\n",
      "706/706 [==============================] - 5s 7ms/step - loss: 5.0596 - accuracy: 0.1204 - val_loss: 8.1976 - val_accuracy: 0.0749\n",
      "Epoch 16/100\n",
      "706/706 [==============================] - 5s 7ms/step - loss: 5.0050 - accuracy: 0.1264 - val_loss: 8.3316 - val_accuracy: 0.0797\n",
      "Epoch 17/100\n",
      "706/706 [==============================] - 5s 7ms/step - loss: 4.9531 - accuracy: 0.1321 - val_loss: 8.2260 - val_accuracy: 0.0783\n",
      "Epoch 18/100\n",
      "706/706 [==============================] - 5s 7ms/step - loss: 4.9118 - accuracy: 0.1347 - val_loss: 8.3710 - val_accuracy: 0.0862\n",
      "Epoch 19/100\n",
      "706/706 [==============================] - 5s 7ms/step - loss: 4.8614 - accuracy: 0.1396 - val_loss: 8.3879 - val_accuracy: 0.0868\n",
      "Epoch 20/100\n",
      "706/706 [==============================] - 5s 7ms/step - loss: 4.8283 - accuracy: 0.1413 - val_loss: 8.4751 - val_accuracy: 0.0838\n",
      "Epoch 21/100\n",
      "706/706 [==============================] - 5s 7ms/step - loss: 4.7827 - accuracy: 0.1451 - val_loss: 8.4601 - val_accuracy: 0.0818\n",
      "Epoch 22/100\n",
      "706/706 [==============================] - 5s 7ms/step - loss: 4.7498 - accuracy: 0.1478 - val_loss: 8.5874 - val_accuracy: 0.0809\n",
      "Epoch 23/100\n",
      "706/706 [==============================] - 5s 7ms/step - loss: 4.7157 - accuracy: 0.1534 - val_loss: 8.6940 - val_accuracy: 0.0841\n",
      "Epoch 24/100\n",
      "706/706 [==============================] - 5s 7ms/step - loss: 4.6856 - accuracy: 0.1542 - val_loss: 8.6506 - val_accuracy: 0.0862\n"
     ]
    }
   ],
   "source": [
    "history1 = model1.fit(predictors, label, epochs=100, validation_split=0.2, callbacks=[callback],verbose=1)"
   ]
  },
  {
   "cell_type": "markdown",
   "metadata": {
    "id": "Hofgi4y0ekN_"
   },
   "source": [
    "#### Тест"
   ]
  },
  {
   "cell_type": "code",
   "execution_count": null,
   "metadata": {
    "colab": {
     "base_uri": "https://localhost:8080/",
     "height": 545
    },
    "executionInfo": {
     "elapsed": 898,
     "status": "ok",
     "timestamp": 1622976889598,
     "user": {
      "displayName": "Olga Gurr",
      "photoUrl": "",
      "userId": "01511282637848373828"
     },
     "user_tz": -180
    },
    "id": "a3BeCGvKemLw",
    "outputId": "6c5d4faa-d393-47cd-eab4-79edf939fd4f"
   },
   "outputs": [
    {
     "data": {
      "image/png": "[encoded data removed]",
      "text/plain": [
       "<Figure size 432x288 with 1 Axes>"
      ]
     },
     "metadata": {
      "needs_background": "light",
      "tags": []
     },
     "output_type": "display_data"
    },
    {
     "data": {
      "image/png": "[encoded data removed]",
      "text/plain": [
       "<Figure size 432x288 with 1 Axes>"
      ]
     },
     "metadata": {
      "needs_background": "light",
      "tags": []
     },
     "output_type": "display_data"
    }
   ],
   "source": [
    "import matplotlib.pyplot as plt\n",
    "acc = history1.history['accuracy']\n",
    "acc_v = history1.history['val_accuracy']\n",
    "loss = history1.history['loss']\n",
    "loss_v = history1.history['val_loss']\n",
    "\n",
    "epochs = range(len(acc))\n",
    "\n",
    "plt.plot(epochs, acc, 'b', label='Train')\n",
    "plt.plot(epochs, acc_v, 'r', label='Test')\n",
    "plt.legend()\n",
    "plt.title('accuracy')\n",
    "\n",
    "plt.figure()\n",
    "\n",
    "plt.plot(epochs, loss, 'b', label='Train')\n",
    "plt.plot(epochs, loss_v, 'r', label='Test')\n",
    "plt.title('loss')\n",
    "plt.legend()\n",
    "\n",
    "plt.show()"
   ]
  },
  {
   "cell_type": "code",
   "execution_count": null,
   "metadata": {
    "colab": {
     "base_uri": "https://localhost:8080/"
    },
    "executionInfo": {
     "elapsed": 1027,
     "status": "ok",
     "timestamp": 1622976897398,
     "user": {
      "displayName": "Olga Gurr",
      "photoUrl": "",
      "userId": "01511282637848373828"
     },
     "user_tz": -180
    },
    "id": "3f-9lG3QezfZ",
    "outputId": "00862a18-b57b-450c-cf65-c0e932ad95d0"
   },
   "outputs": [
    {
     "name": "stdout",
     "output_type": "stream",
     "text": [
      "[24, 5, 216, 27, 135, 7, 596, 149, 19, 1, 240]\n"
     ]
    },
    {
     "name": "stderr",
     "output_type": "stream",
     "text": [
      "/usr/local/lib/python3.7/dist-packages/tensorflow/python/keras/engine/sequential.py:455: UserWarning: `model.predict_classes()` is deprecated and will be removed after 2021-01-01. Please use instead:* `np.argmax(model.predict(x), axis=-1)`,   if your model does multi-class classification   (e.g. if it uses a `softmax` last-layer activation).* `(model.predict(x) > 0.5).astype(\"int32\")`,   if your model does binary classification   (e.g. if it uses a `sigmoid` last-layer activation).\n",
      "  warnings.warn('`model.predict_classes()` is deprecated and '\n"
     ]
    },
    {
     "name": "stdout",
     "output_type": "stream",
     "text": [
      "[24, 5, 216, 27, 135, 7, 596, 149, 19, 1, 240, 3]\n",
      "[24, 5, 216, 27, 135, 7, 596, 149, 19, 1, 240, 3, 7]\n",
      "[24, 5, 216, 27, 135, 7, 596, 149, 19, 1, 240, 3, 7, 13]\n",
      "[24, 5, 216, 27, 135, 7, 596, 149, 19, 1, 240, 3, 7, 13, 5]\n",
      "[24, 5, 216, 27, 135, 7, 596, 149, 19, 1, 240, 3, 7, 13, 5, 32]\n",
      "[24, 5, 216, 27, 135, 7, 596, 149, 19, 1, 240, 3, 7, 13, 5, 32, 32]\n",
      "[24, 5, 216, 27, 135, 7, 596, 149, 19, 1, 240, 3, 7, 13, 5, 32, 32, 32]\n",
      "[24, 5, 216, 27, 135, 7, 596, 149, 19, 1, 240, 3, 7, 13, 5, 32, 32, 32, 32]\n",
      "[24, 5, 216, 27, 135, 7, 596, 149, 19, 1, 240, 3, 7, 13, 5, 32, 32, 32, 32, 32]\n",
      "For a minute or two she stood looking at the house and she was a little little little little little little\n"
     ]
    }
   ],
   "source": [
    "seed_text = \"For a minute or two she stood looking at the house\"\n",
    "\n",
    "next_words = 10\n",
    "  \n",
    "for _ in range(next_words):\n",
    "\ttoken_list = tokenizer1.texts_to_sequences([seed_text])[0]\n",
    "\tprint(token_list)\n",
    "\ttoken_list = pad_sequences([token_list], maxlen=max_sequence_len-1, padding='pre')\n",
    "\tpredicted = model1.predict_classes(token_list, verbose=0)\n",
    "  #y_p=model.predict(token_list)\n",
    "\toutput_word = \"\"\n",
    "\ty_p=model1.predict(token_list)\n",
    "\tfor word, index in tokenizer1.word_index.items():\n",
    "\t\tif index == predicted:\n",
    "\t\t\toutput_word = word\n",
    "\t\t\tbreak\n",
    "\tseed_text += \" \" + output_word\n",
    "print(seed_text)"
   ]
  },
  {
   "cell_type": "code",
   "execution_count": null,
   "metadata": {
    "colab": {
     "base_uri": "https://localhost:8080/",
     "height": 283
    },
    "executionInfo": {
     "elapsed": 328,
     "status": "ok",
     "timestamp": 1622976903333,
     "user": {
      "displayName": "Olga Gurr",
      "photoUrl": "",
      "userId": "01511282637848373828"
     },
     "user_tz": -180
    },
    "id": "G3Ltizkofo-N",
    "outputId": "c6f3bd04-c0c1-4526-b577-be66cb1937fd"
   },
   "outputs": [
    {
     "data": {
      "text/plain": [
       "[<matplotlib.lines.Line2D at 0x7f5e3450b490>]"
      ]
     },
     "execution_count": 200,
     "metadata": {
      "tags": []
     },
     "output_type": "execute_result"
    },
    {
     "data": {
      "image/png": "[encoded data removed]",
      "text/plain": [
       "<Figure size 432x288 with 1 Axes>"
      ]
     },
     "metadata": {
      "needs_background": "light",
      "tags": []
     },
     "output_type": "display_data"
    }
   ],
   "source": [
    "plt.plot(y_p[0,:])"
   ]
  },
  {
   "cell_type": "code",
   "execution_count": null,
   "metadata": {
    "colab": {
     "base_uri": "https://localhost:8080/"
    },
    "executionInfo": {
     "elapsed": 315,
     "status": "ok",
     "timestamp": 1622976907517,
     "user": {
      "displayName": "Olga Gurr",
      "photoUrl": "",
      "userId": "01511282637848373828"
     },
     "user_tz": -180
    },
    "id": "71jJAMYmfs3g",
    "outputId": "c9503f90-9a26-4f5d-d238-842270af5fcf"
   },
   "outputs": [
    {
     "data": {
      "text/plain": [
       "array([ 29,  32,  64, 103, 104, 108, 127, 141, 163])"
      ]
     },
     "execution_count": 201,
     "metadata": {
      "tags": []
     },
     "output_type": "execute_result"
    }
   ],
   "source": [
    "ind_prob=np.where(y_p[0,:]>0.00660)[0]\n",
    "ind_prob"
   ]
  },
  {
   "cell_type": "code",
   "execution_count": null,
   "metadata": {
    "colab": {
     "base_uri": "https://localhost:8080/"
    },
    "executionInfo": {
     "elapsed": 6,
     "status": "ok",
     "timestamp": 1622976911832,
     "user": {
      "displayName": "Olga Gurr",
      "photoUrl": "",
      "userId": "01511282637848373828"
     },
     "user_tz": -180
    },
    "id": "yksNN2WBgI6Y",
    "outputId": "e6473915-71ff-4e51-c752-ed133f2c225f"
   },
   "outputs": [
    {
     "name": "stdout",
     "output_type": "stream",
     "text": [
      "very  :  8.109457e-09\n",
      "little  :  0.0018767244\n",
      "time  :  0.00017113452\n",
      "head  :  0.0005868065\n",
      "thing  :  0.0007998441\n",
      "voice  :  0.002475591\n",
      "great  :  0.000113974354\n",
      "large  :  0.0011730676\n",
      "eyes  :  0.00016286153\n"
     ]
    }
   ],
   "source": [
    "for i,ind in enumerate(ind_prob.tolist()):\n",
    "  print(tokenizer1.index_word[ind], ' : ', y_p[0,i])"
   ]
  },
  {
   "cell_type": "markdown",
   "metadata": {
    "id": "gbATZnFE3gYY"
   },
   "source": [
    "### 1.2 LSTM с длиной словаря 10000, шириной слоя LSTM 256"
   ]
  },
  {
   "cell_type": "markdown",
   "metadata": {
    "id": "Ucbw07XS4h5z"
   },
   "source": [
    "#### Создаем сеть"
   ]
  },
  {
   "cell_type": "code",
   "execution_count": null,
   "metadata": {
    "colab": {
     "base_uri": "https://localhost:8080/"
    },
    "executionInfo": {
     "elapsed": 324,
     "status": "ok",
     "timestamp": 1622977701220,
     "user": {
      "displayName": "Olga Gurr",
      "photoUrl": "",
      "userId": "01511282637848373828"
     },
     "user_tz": -180
    },
    "id": "Qtdvb4Ow6aDD",
    "outputId": "34b09c0b-487f-4fa9-cafa-7ad5c72e1cf1"
   },
   "outputs": [
    {
     "name": "stdout",
     "output_type": "stream",
     "text": [
      "Model: \"sequential_16\"\n",
      "_________________________________________________________________\n",
      "Layer (type)                 Output Shape              Param #   \n",
      "=================================================================\n",
      "embedding_16 (Embedding)     (None, 17, 10)            33990     \n",
      "_________________________________________________________________\n",
      "lstm_16 (LSTM)               (None, 256)               273408    \n",
      "_________________________________________________________________\n",
      "dropout_16 (Dropout)         (None, 256)               0         \n",
      "_________________________________________________________________\n",
      "dense_32 (Dense)             (None, 1699)              436643    \n",
      "_________________________________________________________________\n",
      "dense_33 (Dense)             (None, 3399)              5778300   \n",
      "=================================================================\n",
      "Total params: 6,522,341\n",
      "Trainable params: 6,522,341\n",
      "Non-trainable params: 0\n",
      "_________________________________________________________________\n",
      "None\n"
     ]
    }
   ],
   "source": [
    "model4 = Sequential()\n",
    "model4.add(Embedding(total_words, 10, input_length=max_sequence_len-1))  # вложение тренируемое для перехода от слова к его векторному коду \n",
    "# на вход вложения (эмбединга) передаем вектор словарь (длина равна словарю, вектор разреженный)), на выход строим вектор из n (тут 10) координат - он плотный\n",
    "\n",
    "model4.add(LSTM(256))\n",
    "model4.add(Dropout( 0.2))\n",
    "model4.add(Dense(total_words/2, activation='relu', kernel_regularizer=regularizers.l2(0.01)))\n",
    "model4.add(Dense(total_words, activation='softmax'))\n",
    "model4.compile(loss='categorical_crossentropy', optimizer='adam', metrics=['accuracy'])\n",
    "print(model4.summary())"
   ]
  },
  {
   "cell_type": "code",
   "execution_count": null,
   "metadata": {
    "colab": {
     "base_uri": "https://localhost:8080/"
    },
    "executionInfo": {
     "elapsed": 96170,
     "status": "ok",
     "timestamp": 1622977813352,
     "user": {
      "displayName": "Olga Gurr",
      "photoUrl": "",
      "userId": "01511282637848373828"
     },
     "user_tz": -180
    },
    "id": "-NyZxExx6qmb",
    "outputId": "5681d217-b1fe-430d-cf3f-fefaf1dd1c2b"
   },
   "outputs": [
    {
     "name": "stdout",
     "output_type": "stream",
     "text": [
      "Epoch 1/100\n",
      "706/706 [==============================] - 7s 8ms/step - loss: 6.3666 - accuracy: 0.0535 - val_loss: 6.9251 - val_accuracy: 0.0719\n",
      "Epoch 2/100\n",
      "706/706 [==============================] - 5s 7ms/step - loss: 5.9138 - accuracy: 0.0571 - val_loss: 7.1518 - val_accuracy: 0.0669\n",
      "Epoch 3/100\n",
      "706/706 [==============================] - 5s 7ms/step - loss: 5.7372 - accuracy: 0.0667 - val_loss: 7.2123 - val_accuracy: 0.0832\n",
      "Epoch 4/100\n",
      "706/706 [==============================] - 5s 7ms/step - loss: 5.5914 - accuracy: 0.0777 - val_loss: 7.4770 - val_accuracy: 0.0825\n",
      "Epoch 5/100\n",
      "706/706 [==============================] - 5s 7ms/step - loss: 5.4847 - accuracy: 0.0827 - val_loss: 7.6217 - val_accuracy: 0.0829\n",
      "Epoch 6/100\n",
      "706/706 [==============================] - 5s 7ms/step - loss: 5.3753 - accuracy: 0.0948 - val_loss: 7.6731 - val_accuracy: 0.0884\n",
      "Epoch 7/100\n",
      "706/706 [==============================] - 5s 7ms/step - loss: 5.2463 - accuracy: 0.1086 - val_loss: 7.7507 - val_accuracy: 0.0877\n",
      "Epoch 8/100\n",
      "706/706 [==============================] - 5s 7ms/step - loss: 5.1265 - accuracy: 0.1163 - val_loss: 7.7314 - val_accuracy: 0.0887\n",
      "Epoch 9/100\n",
      "706/706 [==============================] - 5s 7ms/step - loss: 5.0124 - accuracy: 0.1262 - val_loss: 7.7673 - val_accuracy: 0.0953\n",
      "Epoch 10/100\n",
      "706/706 [==============================] - 5s 7ms/step - loss: 4.8975 - accuracy: 0.1344 - val_loss: 8.0292 - val_accuracy: 0.0965\n",
      "Epoch 11/100\n",
      "706/706 [==============================] - 5s 7ms/step - loss: 4.7870 - accuracy: 0.1467 - val_loss: 7.9417 - val_accuracy: 0.1029\n",
      "Epoch 12/100\n",
      "706/706 [==============================] - 5s 7ms/step - loss: 4.6862 - accuracy: 0.1533 - val_loss: 8.4948 - val_accuracy: 0.1001\n",
      "Epoch 13/100\n",
      "706/706 [==============================] - 5s 7ms/step - loss: 4.5923 - accuracy: 0.1634 - val_loss: 8.5749 - val_accuracy: 0.1052\n",
      "Epoch 14/100\n",
      "706/706 [==============================] - 5s 7ms/step - loss: 4.5071 - accuracy: 0.1679 - val_loss: 8.6963 - val_accuracy: 0.1002\n",
      "Epoch 15/100\n",
      "706/706 [==============================] - 5s 7ms/step - loss: 4.4225 - accuracy: 0.1792 - val_loss: 8.7951 - val_accuracy: 0.1043\n",
      "Epoch 16/100\n",
      "706/706 [==============================] - 5s 7ms/step - loss: 4.3438 - accuracy: 0.1808 - val_loss: 9.1644 - val_accuracy: 0.1015\n",
      "Epoch 17/100\n",
      "706/706 [==============================] - 5s 7ms/step - loss: 4.2621 - accuracy: 0.1873 - val_loss: 9.6204 - val_accuracy: 0.1002\n",
      "Epoch 18/100\n",
      "706/706 [==============================] - 5s 7ms/step - loss: 4.1822 - accuracy: 0.1939 - val_loss: 9.6449 - val_accuracy: 0.1024\n"
     ]
    }
   ],
   "source": [
    "history4 = model4.fit(predictors, label, epochs=100, validation_split=0.2, callbacks=[callback],verbose=1)"
   ]
  },
  {
   "cell_type": "markdown",
   "metadata": {
    "id": "0wY6vRAL7AZH"
   },
   "source": [
    "#### Тест"
   ]
  },
  {
   "cell_type": "code",
   "execution_count": null,
   "metadata": {
    "colab": {
     "base_uri": "https://localhost:8080/",
     "height": 545
    },
    "executionInfo": {
     "elapsed": 584,
     "status": "ok",
     "timestamp": 1622977978267,
     "user": {
      "displayName": "Olga Gurr",
      "photoUrl": "",
      "userId": "01511282637848373828"
     },
     "user_tz": -180
    },
    "id": "cbqSed1_7Eor",
    "outputId": "8f219b69-eca2-4ae8-a496-42a77fa9096f"
   },
   "outputs": [
    {
     "data": {
      "image/png": "[encoded data removed]",
      "text/plain": [
       "<Figure size 432x288 with 1 Axes>"
      ]
     },
     "metadata": {
      "needs_background": "light",
      "tags": []
     },
     "output_type": "display_data"
    },
    {
     "data": {
      "image/png": "[encoded data removed]",
      "text/plain": [
       "<Figure size 432x288 with 1 Axes>"
      ]
     },
     "metadata": {
      "needs_background": "light",
      "tags": []
     },
     "output_type": "display_data"
    }
   ],
   "source": [
    "import matplotlib.pyplot as plt\n",
    "acc = history4.history['accuracy']\n",
    "acc_v = history4.history['val_accuracy']\n",
    "loss = history4.history['loss']\n",
    "loss_v = history4.history['val_loss']\n",
    "\n",
    "epochs = range(len(acc))\n",
    "\n",
    "plt.plot(epochs, acc, 'b', label='Train')\n",
    "plt.plot(epochs, acc_v, 'r', label='Test')\n",
    "plt.legend()\n",
    "plt.title('accuracy')\n",
    "\n",
    "plt.figure()\n",
    "\n",
    "plt.plot(epochs, loss, 'b', label='Train')\n",
    "plt.plot(epochs, loss_v, 'r', label='Test')\n",
    "plt.title('loss')\n",
    "plt.legend()\n",
    "\n",
    "plt.show()"
   ]
  },
  {
   "cell_type": "code",
   "execution_count": null,
   "metadata": {
    "colab": {
     "base_uri": "https://localhost:8080/"
    },
    "executionInfo": {
     "elapsed": 1004,
     "status": "ok",
     "timestamp": 1622977982883,
     "user": {
      "displayName": "Olga Gurr",
      "photoUrl": "",
      "userId": "01511282637848373828"
     },
     "user_tz": -180
    },
    "id": "_CMkba5W7Vyc",
    "outputId": "6641c85d-b41c-41cc-d57c-5715925d6bfc"
   },
   "outputs": [
    {
     "name": "stdout",
     "output_type": "stream",
     "text": [
      "[24, 5, 216, 27, 135, 7, 596, 149, 19, 1, 240]\n"
     ]
    },
    {
     "name": "stderr",
     "output_type": "stream",
     "text": [
      "/usr/local/lib/python3.7/dist-packages/tensorflow/python/keras/engine/sequential.py:455: UserWarning: `model.predict_classes()` is deprecated and will be removed after 2021-01-01. Please use instead:* `np.argmax(model.predict(x), axis=-1)`,   if your model does multi-class classification   (e.g. if it uses a `softmax` last-layer activation).* `(model.predict(x) > 0.5).astype(\"int32\")`,   if your model does binary classification   (e.g. if it uses a `sigmoid` last-layer activation).\n",
      "  warnings.warn('`model.predict_classes()` is deprecated and '\n"
     ]
    },
    {
     "name": "stdout",
     "output_type": "stream",
     "text": [
      "[24, 5, 216, 27, 135, 7, 596, 149, 19, 1, 240, 3]\n",
      "[24, 5, 216, 27, 135, 7, 596, 149, 19, 1, 240, 3, 7]\n",
      "[24, 5, 216, 27, 135, 7, 596, 149, 19, 1, 240, 3, 7, 13]\n",
      "[24, 5, 216, 27, 135, 7, 596, 149, 19, 1, 240, 3, 7, 13, 5]\n",
      "[24, 5, 216, 27, 135, 7, 596, 149, 19, 1, 240, 3, 7, 13, 5, 32]\n",
      "[24, 5, 216, 27, 135, 7, 596, 149, 19, 1, 240, 3, 7, 13, 5, 32, 359]\n",
      "[24, 5, 216, 27, 135, 7, 596, 149, 19, 1, 240, 3, 7, 13, 5, 32, 359, 4]\n",
      "[24, 5, 216, 27, 135, 7, 596, 149, 19, 1, 240, 3, 7, 13, 5, 32, 359, 4, 25]\n",
      "[24, 5, 216, 27, 135, 7, 596, 149, 19, 1, 240, 3, 7, 13, 5, 32, 359, 4, 25, 4]\n",
      "For a minute or two she stood looking at the house and she was a little deal to be to be\n"
     ]
    }
   ],
   "source": [
    "seed_text = \"For a minute or two she stood looking at the house\"\n",
    "#seed_text = \"She is my girl, I see in my hend\"\n",
    "next_words = 10\n",
    "  \n",
    "for _ in range(next_words):\n",
    "\ttoken_list = tokenizer1.texts_to_sequences([seed_text])[0]\n",
    "\tprint(token_list)\n",
    "\ttoken_list = pad_sequences([token_list], maxlen=max_sequence_len-1, padding='pre')\n",
    "\tpredicted = model4.predict_classes(token_list, verbose=0)\n",
    "  #y_p=model.predict(token_list)\n",
    "\toutput_word = \"\"\n",
    "\ty_p=model4.predict(token_list)\n",
    "\tfor word, index in tokenizer1.word_index.items():\n",
    "\t\tif index == predicted:\n",
    "\t\t\toutput_word = word\n",
    "\t\t\tbreak\n",
    "\tseed_text += \" \" + output_word\n",
    "print(seed_text)"
   ]
  },
  {
   "cell_type": "code",
   "execution_count": null,
   "metadata": {
    "colab": {
     "base_uri": "https://localhost:8080/",
     "height": 283
    },
    "executionInfo": {
     "elapsed": 419,
     "status": "ok",
     "timestamp": 1622977990798,
     "user": {
      "displayName": "Olga Gurr",
      "photoUrl": "",
      "userId": "01511282637848373828"
     },
     "user_tz": -180
    },
    "id": "2QqNzc6h7f3D",
    "outputId": "7f0a9a70-c85b-4c3e-a99a-1a1752eebc20"
   },
   "outputs": [
    {
     "data": {
      "text/plain": [
       "[<matplotlib.lines.Line2D at 0x7f5e2febbd10>]"
      ]
     },
     "execution_count": 221,
     "metadata": {
      "tags": []
     },
     "output_type": "execute_result"
    },
    {
     "data": {
      "image/png": "[encoded data removed]",
      "text/plain": [
       "<Figure size 432x288 with 1 Axes>"
      ]
     },
     "metadata": {
      "needs_background": "light",
      "tags": []
     },
     "output_type": "display_data"
    }
   ],
   "source": [
    "plt.plot(y_p[0,:])"
   ]
  },
  {
   "cell_type": "code",
   "execution_count": null,
   "metadata": {
    "colab": {
     "base_uri": "https://localhost:8080/"
    },
    "executionInfo": {
     "elapsed": 314,
     "status": "ok",
     "timestamp": 1622978008406,
     "user": {
      "displayName": "Olga Gurr",
      "photoUrl": "",
      "userId": "01511282637848373828"
     },
     "user_tz": -180
    },
    "id": "zT9jY1IQ7gCo",
    "outputId": "cc1eec8e-16a9-42f7-eb3e-46ede61cae0a"
   },
   "outputs": [
    {
     "data": {
      "text/plain": [
       "array([  1,  25,  44,  55,  65,  91,  95, 106, 116, 278, 560, 690])"
      ]
     },
     "execution_count": 224,
     "metadata": {
      "tags": []
     },
     "output_type": "execute_result"
    }
   ],
   "source": [
    "ind_prob=np.where(y_p[0,:]>0.01500)[0]\n",
    "ind_prob"
   ]
  },
  {
   "cell_type": "code",
   "execution_count": null,
   "metadata": {
    "colab": {
     "base_uri": "https://localhost:8080/"
    },
    "executionInfo": {
     "elapsed": 388,
     "status": "ok",
     "timestamp": 1622978011828,
     "user": {
      "displayName": "Olga Gurr",
      "photoUrl": "",
      "userId": "01511282637848373828"
     },
     "user_tz": -180
    },
    "id": "XR82jzP27kUF",
    "outputId": "0cea6ac6-d5a2-400c-d59e-c28ae9f1740e"
   },
   "outputs": [
    {
     "name": "stdout",
     "output_type": "stream",
     "text": [
      "the  :  5.5856934e-11\n",
      "be  :  0.01904393\n",
      "do  :  0.0016519458\n",
      "have  :  0.00029663305\n",
      "see  :  0.0013618562\n",
      "think  :  0.01106781\n",
      "say  :  0.00023701627\n",
      "go  :  0.00046007114\n",
      "get  :  0.0026808172\n",
      "hear  :  0.00015695652\n",
      "listen  :  0.00060242973\n",
      "sing  :  0.00074417004\n"
     ]
    }
   ],
   "source": [
    "for i,ind in enumerate(ind_prob.tolist()):\n",
    "  print(tokenizer1.index_word[ind], ' : ', y_p[0,i])"
   ]
  },
  {
   "cell_type": "markdown",
   "metadata": {
    "id": "VQ24kTC_if0A"
   },
   "source": [
    "### 1.3 LSTM с длиной словаря 300, шириной слоя LSTM 10"
   ]
  },
  {
   "cell_type": "code",
   "execution_count": null,
   "metadata": {
    "id": "4bwyYOKfjZ3M"
   },
   "outputs": [],
   "source": [
    "data = open('/content/drive/My Drive/Colab Notebooks/114_Neuronets/less_05/alice_in_wonderland.txt').read()\n",
    "#Читаем текст\n",
    "corpus = data.lower().split(\"\\n\")"
   ]
  },
  {
   "cell_type": "markdown",
   "metadata": {
    "id": "wB2yB76R4jWW"
   },
   "source": [
    "#### Исполним токенизацию и кодирование"
   ]
  },
  {
   "cell_type": "code",
   "execution_count": null,
   "metadata": {
    "id": "b5stgM9vij6P"
   },
   "outputs": [],
   "source": [
    "# Создаем объект для токенизации\n",
    "tokenizer2 = Tokenizer( num_words=300)\n",
    "\n",
    "tokenizer2.fit_on_texts(corpus)\n",
    "total_words = len(tokenizer2.word_index) + 1\n",
    "\n",
    "# create input sequences using list of tokens\n",
    "input_sequences = []\n",
    "for line in corpus:\n",
    "\ttoken_list = tokenizer2.texts_to_sequences([line])[0]\n",
    "\tfor i in range(1, len(token_list)):\n",
    "\t\tn_gram_sequence = token_list[:i+1]\n",
    "\t\tinput_sequences.append(n_gram_sequence)\n",
    "\n",
    "\n",
    "# pad sequences \n",
    "max_sequence_len = max([len(x) for x in input_sequences])\n",
    "input_sequences = np.array(pad_sequences(input_sequences, maxlen=max_sequence_len, padding='pre'))\n",
    "\n",
    "# create predictors and label\n",
    "predictors, label = input_sequences[:,:-1],input_sequences[:,-1]\n",
    "\n",
    "label = ku.to_categorical(label, num_classes=total_words)"
   ]
  },
  {
   "cell_type": "code",
   "execution_count": null,
   "metadata": {
    "colab": {
     "base_uri": "https://localhost:8080/"
    },
    "executionInfo": {
     "elapsed": 302,
     "status": "ok",
     "timestamp": 1622974872438,
     "user": {
      "displayName": "Olga Gurr",
      "photoUrl": "",
      "userId": "01511282637848373828"
     },
     "user_tz": -180
    },
    "id": "nYofIcY4izUh",
    "outputId": "16a0640b-3ee3-49d1-cfb1-145edc34b6f1"
   },
   "outputs": [
    {
     "data": {
      "text/plain": [
       "(19845, 3399)"
      ]
     },
     "execution_count": 165,
     "metadata": {
      "tags": []
     },
     "output_type": "execute_result"
    }
   ],
   "source": [
    "label.shape"
   ]
  },
  {
   "cell_type": "markdown",
   "metadata": {
    "id": "XQMi8-9LjHOY"
   },
   "source": [
    "#### Создаем сеть"
   ]
  },
  {
   "cell_type": "code",
   "execution_count": null,
   "metadata": {
    "id": "-NAIrF3IjJa8"
   },
   "outputs": [],
   "source": [
    "callback = EarlyStopping(monitor='val_accuracy', patience=5) # создаем обратный вызов - calback - тут \"Ранний останов\""
   ]
  },
  {
   "cell_type": "code",
   "execution_count": null,
   "metadata": {
    "colab": {
     "base_uri": "https://localhost:8080/"
    },
    "executionInfo": {
     "elapsed": 692,
     "status": "ok",
     "timestamp": 1622974901387,
     "user": {
      "displayName": "Olga Gurr",
      "photoUrl": "",
      "userId": "01511282637848373828"
     },
     "user_tz": -180
    },
    "id": "KzzVwkGZjKVt",
    "outputId": "4e8ad19d-db67-4f4d-8312-854f7cbfddb0"
   },
   "outputs": [
    {
     "name": "stdout",
     "output_type": "stream",
     "text": [
      "Model: \"sequential_8\"\n",
      "_________________________________________________________________\n",
      "Layer (type)                 Output Shape              Param #   \n",
      "=================================================================\n",
      "embedding_8 (Embedding)      (None, 16, 10)            33990     \n",
      "_________________________________________________________________\n",
      "lstm_8 (LSTM)                (None, 10)                840       \n",
      "_________________________________________________________________\n",
      "dropout_8 (Dropout)          (None, 10)                0         \n",
      "_________________________________________________________________\n",
      "dense_16 (Dense)             (None, 1699)              18689     \n",
      "_________________________________________________________________\n",
      "dense_17 (Dense)             (None, 3399)              5778300   \n",
      "=================================================================\n",
      "Total params: 5,831,819\n",
      "Trainable params: 5,831,819\n",
      "Non-trainable params: 0\n",
      "_________________________________________________________________\n",
      "None\n"
     ]
    }
   ],
   "source": [
    "model2 = Sequential()\n",
    "model2.add(Embedding(total_words, 10, input_length=max_sequence_len-1))  # вложение тренируемое для перехода от слова к его векторному коду \n",
    "# на вход вложения (эмбединга) передаем вектор словарь (длина равна словарю, вектор разреженный)), на выход строим вектор из n (тут 10) координат - он плотный\n",
    "#model.add(Bidirectional(LSTM(50, return_sequences = True)))\n",
    "\n",
    "model2.add(LSTM(10))\n",
    "model2.add(Dropout( 0.2))\n",
    "model2.add(Dense(total_words/2, activation='relu', kernel_regularizer=regularizers.l2(0.01)))\n",
    "model2.add(Dense(total_words, activation='softmax'))\n",
    "model2.compile(loss='categorical_crossentropy', optimizer='adam', metrics=['accuracy'])\n",
    "print(model2.summary())"
   ]
  },
  {
   "cell_type": "code",
   "execution_count": null,
   "metadata": {
    "colab": {
     "base_uri": "https://localhost:8080/"
    },
    "executionInfo": {
     "elapsed": 47833,
     "status": "ok",
     "timestamp": 1622974962052,
     "user": {
      "displayName": "Olga Gurr",
      "photoUrl": "",
      "userId": "01511282637848373828"
     },
     "user_tz": -180
    },
    "id": "N283r2bDizf0",
    "outputId": "c3a0526b-e626-4a6d-ff78-c6838614ce86"
   },
   "outputs": [
    {
     "name": "stdout",
     "output_type": "stream",
     "text": [
      "Epoch 1/100\n",
      "497/497 [==============================] - 5s 8ms/step - loss: 5.1587 - accuracy: 0.0714 - val_loss: 5.3083 - val_accuracy: 0.1101\n",
      "Epoch 2/100\n",
      "497/497 [==============================] - 3s 7ms/step - loss: 4.8141 - accuracy: 0.0760 - val_loss: 5.2296 - val_accuracy: 0.0970\n",
      "Epoch 3/100\n",
      "497/497 [==============================] - 3s 7ms/step - loss: 4.7109 - accuracy: 0.0877 - val_loss: 5.1794 - val_accuracy: 0.1066\n",
      "Epoch 4/100\n",
      "497/497 [==============================] - 3s 7ms/step - loss: 4.6336 - accuracy: 0.0954 - val_loss: 5.1386 - val_accuracy: 0.1116\n",
      "Epoch 5/100\n",
      "497/497 [==============================] - 3s 7ms/step - loss: 4.5930 - accuracy: 0.0988 - val_loss: 5.1470 - val_accuracy: 0.1272\n",
      "Epoch 6/100\n",
      "497/497 [==============================] - 3s 7ms/step - loss: 4.5628 - accuracy: 0.1013 - val_loss: 5.1184 - val_accuracy: 0.1333\n",
      "Epoch 7/100\n",
      "497/497 [==============================] - 3s 7ms/step - loss: 4.5397 - accuracy: 0.1061 - val_loss: 5.1127 - val_accuracy: 0.1411\n",
      "Epoch 8/100\n",
      "497/497 [==============================] - 3s 7ms/step - loss: 4.5041 - accuracy: 0.1134 - val_loss: 5.1310 - val_accuracy: 0.1366\n",
      "Epoch 9/100\n",
      "497/497 [==============================] - 3s 7ms/step - loss: 4.4633 - accuracy: 0.1204 - val_loss: 5.0961 - val_accuracy: 0.1517\n",
      "Epoch 10/100\n",
      "497/497 [==============================] - 3s 7ms/step - loss: 4.4282 - accuracy: 0.1235 - val_loss: 5.1011 - val_accuracy: 0.1454\n",
      "Epoch 11/100\n",
      "497/497 [==============================] - 3s 7ms/step - loss: 4.3973 - accuracy: 0.1264 - val_loss: 5.1196 - val_accuracy: 0.1509\n",
      "Epoch 12/100\n",
      "497/497 [==============================] - 3s 7ms/step - loss: 4.3708 - accuracy: 0.1289 - val_loss: 5.0889 - val_accuracy: 0.1446\n",
      "Epoch 13/100\n",
      "497/497 [==============================] - 3s 7ms/step - loss: 4.3540 - accuracy: 0.1297 - val_loss: 5.1073 - val_accuracy: 0.1406\n",
      "Epoch 14/100\n",
      "497/497 [==============================] - 3s 7ms/step - loss: 4.3314 - accuracy: 0.1301 - val_loss: 5.1240 - val_accuracy: 0.1494\n"
     ]
    }
   ],
   "source": [
    "history2 = model2.fit(predictors, label, epochs=100, validation_split=0.2, callbacks=[callback],verbose=1)"
   ]
  },
  {
   "cell_type": "markdown",
   "metadata": {
    "id": "U_zPY91wlKwn"
   },
   "source": [
    "#### Тест"
   ]
  },
  {
   "cell_type": "code",
   "execution_count": null,
   "metadata": {
    "colab": {
     "base_uri": "https://localhost:8080/",
     "height": 545
    },
    "executionInfo": {
     "elapsed": 33204,
     "status": "ok",
     "timestamp": 1622971528013,
     "user": {
      "displayName": "Olga Gurr",
      "photoUrl": "",
      "userId": "01511282637848373828"
     },
     "user_tz": -180
    },
    "id": "fvaUSZg-lHIS",
    "outputId": "8ce7d557-b655-41ba-ed35-3ddbaadc583f"
   },
   "outputs": [
    {
     "data": {
      "image/png": "[encoded data removed]",
      "text/plain": [
       "<Figure size 432x288 with 1 Axes>"
      ]
     },
     "metadata": {
      "needs_background": "light",
      "tags": []
     },
     "output_type": "display_data"
    },
    {
     "data": {
      "image/png": "[encoded data removed]",
      "text/plain": [
       "<Figure size 432x288 with 1 Axes>"
      ]
     },
     "metadata": {
      "needs_background": "light",
      "tags": []
     },
     "output_type": "display_data"
    }
   ],
   "source": [
    "import matplotlib.pyplot as plt\n",
    "acc = history2.history['accuracy']\n",
    "acc_v = history2.history['val_accuracy']\n",
    "loss = history2.history['loss']\n",
    "loss_v = history2.history['val_loss']\n",
    "\n",
    "epochs = range(len(acc))\n",
    "\n",
    "plt.plot(epochs, acc, 'b', label='Train')\n",
    "plt.plot(epochs, acc_v, 'r', label='Test')\n",
    "plt.legend()\n",
    "plt.title('accuracy')\n",
    "\n",
    "plt.figure()\n",
    "\n",
    "plt.plot(epochs, loss, 'b', label='Train')\n",
    "plt.plot(epochs, loss_v, 'r', label='Test')\n",
    "plt.title('loss')\n",
    "plt.legend()\n",
    "\n",
    "plt.show()"
   ]
  },
  {
   "cell_type": "code",
   "execution_count": null,
   "metadata": {
    "colab": {
     "base_uri": "https://localhost:8080/"
    },
    "executionInfo": {
     "elapsed": 46343,
     "status": "ok",
     "timestamp": 1622975058413,
     "user": {
      "displayName": "Olga Gurr",
      "photoUrl": "",
      "userId": "01511282637848373828"
     },
     "user_tz": -180
    },
    "id": "a8lTn4Xxk-na",
    "outputId": "48d00dfa-93db-487d-e92a-e5cc1b3e5696"
   },
   "outputs": [
    {
     "name": "stdout",
     "output_type": "stream",
     "text": [
      "[24, 5, 216, 27, 135, 7, 149, 19, 1, 240]\n"
     ]
    },
    {
     "name": "stderr",
     "output_type": "stream",
     "text": [
      "/usr/local/lib/python3.7/dist-packages/tensorflow/python/keras/engine/sequential.py:455: UserWarning: `model.predict_classes()` is deprecated and will be removed after 2021-01-01. Please use instead:* `np.argmax(model.predict(x), axis=-1)`,   if your model does multi-class classification   (e.g. if it uses a `softmax` last-layer activation).* `(model.predict(x) > 0.5).astype(\"int32\")`,   if your model does binary classification   (e.g. if it uses a `sigmoid` last-layer activation).\n",
      "  warnings.warn('`model.predict_classes()` is deprecated and '\n"
     ]
    },
    {
     "name": "stdout",
     "output_type": "stream",
     "text": [
      "[24, 5, 216, 27, 135, 7, 149, 19, 1, 240, 3]\n",
      "[24, 5, 216, 27, 135, 7, 149, 19, 1, 240, 3, 1]\n",
      "[24, 5, 216, 27, 135, 7, 149, 19, 1, 240, 3, 1, 81]\n",
      "[24, 5, 216, 27, 135, 7, 149, 19, 1, 240, 3, 1, 81, 82]\n",
      "[24, 5, 216, 27, 135, 7, 149, 19, 1, 240, 3, 1, 81, 82, 3]\n",
      "[24, 5, 216, 27, 135, 7, 149, 19, 1, 240, 3, 1, 81, 82, 3, 7]\n",
      "[24, 5, 216, 27, 135, 7, 149, 19, 1, 240, 3, 1, 81, 82, 3, 7, 13]\n",
      "[24, 5, 216, 27, 135, 7, 149, 19, 1, 240, 3, 1, 81, 82, 3, 7, 13, 1]\n",
      "[24, 5, 216, 27, 135, 7, 149, 19, 1, 240, 3, 1, 81, 82, 3, 7, 13, 1, 6]\n",
      "For a minute or two she stood looking at the house and the mock turtle and she was the of the\n"
     ]
    }
   ],
   "source": [
    "seed_text = \"For a minute or two she stood looking at the house\"\n",
    "#seed_text = \"She is my girl, I see in my hend\"\n",
    "next_words = 10\n",
    "  \n",
    "for _ in range(next_words):\n",
    "\ttoken_list = tokenizer2.texts_to_sequences([seed_text])[0]\n",
    "\tprint(token_list)\n",
    "\ttoken_list = pad_sequences([token_list], maxlen=max_sequence_len-1, padding='pre')\n",
    "\tpredicted = model2.predict_classes(token_list, verbose=0)\n",
    "  #y_p=model.predict(token_list)\n",
    "\toutput_word = \"\"\n",
    "\ty_p=model2.predict(token_list)\n",
    "\tfor word, index in tokenizer2.word_index.items():\n",
    "\t\tif index == predicted:\n",
    "\t\t\toutput_word = word\n",
    "\t\t\tbreak\n",
    "\tseed_text += \" \" + output_word\n",
    "print(seed_text)"
   ]
  },
  {
   "cell_type": "code",
   "execution_count": null,
   "metadata": {
    "colab": {
     "base_uri": "https://localhost:8080/",
     "height": 283
    },
    "executionInfo": {
     "elapsed": 842,
     "status": "ok",
     "timestamp": 1622975064764,
     "user": {
      "displayName": "Olga Gurr",
      "photoUrl": "",
      "userId": "01511282637848373828"
     },
     "user_tz": -180
    },
    "id": "ybzO59W6k_Kr",
    "outputId": "c34414a0-bf9e-43fe-f440-22e88ee33eb4"
   },
   "outputs": [
    {
     "data": {
      "text/plain": [
       "[<matplotlib.lines.Line2D at 0x7f5e339ac310>]"
      ]
     },
     "execution_count": 170,
     "metadata": {
      "tags": []
     },
     "output_type": "execute_result"
    },
    {
     "data": {
      "image/png": "[encoded data removed]",
      "text/plain": [
       "<Figure size 432x288 with 1 Axes>"
      ]
     },
     "metadata": {
      "needs_background": "light",
      "tags": []
     },
     "output_type": "display_data"
    }
   ],
   "source": [
    "plt.plot(y_p[0,:])"
   ]
  },
  {
   "cell_type": "code",
   "execution_count": null,
   "metadata": {
    "colab": {
     "base_uri": "https://localhost:8080/"
    },
    "executionInfo": {
     "elapsed": 301,
     "status": "ok",
     "timestamp": 1622975080028,
     "user": {
      "displayName": "Olga Gurr",
      "photoUrl": "",
      "userId": "01511282637848373828"
     },
     "user_tz": -180
    },
    "id": "7nRm3ZRXl7QS",
    "outputId": "8e2aa42b-3806-4b9e-8233-2a5e97c52864"
   },
   "outputs": [
    {
     "data": {
      "text/plain": [
       "array([ 1,  2,  3,  4,  5,  7,  8, 10, 12, 17, 19])"
      ]
     },
     "execution_count": 173,
     "metadata": {
      "tags": []
     },
     "output_type": "execute_result"
    }
   ],
   "source": [
    "ind_prob=np.where(y_p[0,:]>0.01500)[0]\n",
    "ind_prob"
   ]
  },
  {
   "cell_type": "code",
   "execution_count": null,
   "metadata": {
    "colab": {
     "base_uri": "https://localhost:8080/"
    },
    "executionInfo": {
     "elapsed": 337,
     "status": "ok",
     "timestamp": 1622975084407,
     "user": {
      "displayName": "Olga Gurr",
      "photoUrl": "",
      "userId": "01511282637848373828"
     },
     "user_tz": -180
    },
    "id": "Ln-RIby2mKmg",
    "outputId": "4bfdcd1d-8390-45c8-b0fb-b53e03643250"
   },
   "outputs": [
    {
     "name": "stdout",
     "output_type": "stream",
     "text": [
      "the  :  6.24861e-08\n",
      "’  :  0.11013052\n",
      "and  :  0.015422518\n",
      "to  :  0.05489064\n",
      "a  :  0.041012153\n",
      "she  :  0.042384386\n",
      "it  :  0.0059562637\n",
      "in  :  0.05836439\n",
      "alice  :  0.03542117\n",
      "her  :  0.013648514\n",
      "at  :  0.019534549\n"
     ]
    }
   ],
   "source": [
    "for i,ind in enumerate(ind_prob.tolist()):\n",
    "  print(tokenizer2.index_word[ind], ' : ', y_p[0,i])"
   ]
  },
  {
   "cell_type": "markdown",
   "metadata": {
    "id": "FzMWAeRymef9"
   },
   "source": [
    "### 1.4 LSTM с длиной словаря 100000, шириной слоя LSTM 10"
   ]
  },
  {
   "cell_type": "code",
   "execution_count": null,
   "metadata": {
    "id": "nsdlS73UmKxs"
   },
   "outputs": [],
   "source": [
    "data = open('/content/drive/My Drive/Colab Notebooks/114_Neuronets/less_05/alice_in_wonderland.txt').read()\n",
    "#Читаем текст\n",
    "corpus = data.lower().split(\"\\n\")"
   ]
  },
  {
   "cell_type": "code",
   "execution_count": null,
   "metadata": {
    "id": "G2MKtVEsmodj"
   },
   "outputs": [],
   "source": [
    "# Создаем объект для токенизации\n",
    "tokenizer3 = Tokenizer( num_words=100000)\n",
    "\n",
    "tokenizer3.fit_on_texts(corpus)\n",
    "total_words = len(tokenizer3.word_index) + 1\n",
    "\n",
    "# create input sequences using list of tokens\n",
    "input_sequences = []\n",
    "for line in corpus:\n",
    "\ttoken_list = tokenizer3.texts_to_sequences([line])[0]\n",
    "\tfor i in range(1, len(token_list)):\n",
    "\t\tn_gram_sequence = token_list[:i+1]\n",
    "\t\tinput_sequences.append(n_gram_sequence)\n",
    "\n",
    "\n",
    "# pad sequences \n",
    "max_sequence_len = max([len(x) for x in input_sequences])\n",
    "input_sequences = np.array(pad_sequences(input_sequences, maxlen=max_sequence_len, padding='pre'))\n",
    "\n",
    "# create predictors and label\n",
    "predictors, label = input_sequences[:,:-1],input_sequences[:,-1]\n",
    "\n",
    "label = ku.to_categorical(label, num_classes=total_words)"
   ]
  },
  {
   "cell_type": "code",
   "execution_count": null,
   "metadata": {
    "colab": {
     "base_uri": "https://localhost:8080/"
    },
    "executionInfo": {
     "elapsed": 265,
     "status": "ok",
     "timestamp": 1622971205946,
     "user": {
      "displayName": "Olga Gurr",
      "photoUrl": "",
      "userId": "01511282637848373828"
     },
     "user_tz": -180
    },
    "id": "KZBKMx-Nmxdm",
    "outputId": "1e4e4b4a-8511-412e-dbfe-73f1698e9e33"
   },
   "outputs": [
    {
     "data": {
      "text/plain": [
       "(28231, 3399)"
      ]
     },
     "execution_count": 99,
     "metadata": {
      "tags": []
     },
     "output_type": "execute_result"
    }
   ],
   "source": [
    "label.shape"
   ]
  },
  {
   "cell_type": "markdown",
   "metadata": {
    "id": "SrsLe2uSm1Ok"
   },
   "source": [
    "#### Создаем сеть"
   ]
  },
  {
   "cell_type": "code",
   "execution_count": null,
   "metadata": {
    "id": "LdvRQyoem31n"
   },
   "outputs": [],
   "source": [
    "callback = EarlyStopping(monitor='val_accuracy', patience=5) # создаем обратный вызов - calback - тут \"Ранний останов\""
   ]
  },
  {
   "cell_type": "code",
   "execution_count": null,
   "metadata": {
    "colab": {
     "base_uri": "https://localhost:8080/"
    },
    "executionInfo": {
     "elapsed": 658,
     "status": "ok",
     "timestamp": 1622971247966,
     "user": {
      "displayName": "Olga Gurr",
      "photoUrl": "",
      "userId": "01511282637848373828"
     },
     "user_tz": -180
    },
    "id": "q6EEhZVZm7kl",
    "outputId": "20395e2c-de4b-4f6c-da06-8d6783fda490"
   },
   "outputs": [
    {
     "name": "stdout",
     "output_type": "stream",
     "text": [
      "Model: \"sequential_4\"\n",
      "_________________________________________________________________\n",
      "Layer (type)                 Output Shape              Param #   \n",
      "=================================================================\n",
      "embedding_4 (Embedding)      (None, 17, 10)            33990     \n",
      "_________________________________________________________________\n",
      "lstm_4 (LSTM)                (None, 10)                840       \n",
      "_________________________________________________________________\n",
      "dropout_4 (Dropout)          (None, 10)                0         \n",
      "_________________________________________________________________\n",
      "dense_8 (Dense)              (None, 1699)              18689     \n",
      "_________________________________________________________________\n",
      "dense_9 (Dense)              (None, 3399)              5778300   \n",
      "=================================================================\n",
      "Total params: 5,831,819\n",
      "Trainable params: 5,831,819\n",
      "Non-trainable params: 0\n",
      "_________________________________________________________________\n",
      "None\n"
     ]
    }
   ],
   "source": [
    "model3 = Sequential()\n",
    "model3.add(Embedding(total_words, 10, input_length=max_sequence_len-1))  # вложение тренируемое для перехода от слова к его векторному коду \n",
    "# на вход вложения (эмбединга) передаем вектор словарь (длина равна словарю, вектор разреженный)), на выход строим вектор из n (тут 10) координат - он плотный\n",
    "#model.add(Bidirectional(LSTM(50, return_sequences = True)))\n",
    "\n",
    "model3.add(LSTM(10))\n",
    "model3.add(Dropout( 0.2))\n",
    "model3.add(Dense(total_words/2, activation='relu', kernel_regularizer=regularizers.l2(0.01)))\n",
    "model3.add(Dense(total_words, activation='softmax'))\n",
    "model3.compile(loss='categorical_crossentropy', optimizer='adam', metrics=['accuracy'])\n",
    "print(model3.summary())"
   ]
  },
  {
   "cell_type": "code",
   "execution_count": null,
   "metadata": {
    "colab": {
     "base_uri": "https://localhost:8080/"
    },
    "executionInfo": {
     "elapsed": 30024,
     "status": "ok",
     "timestamp": 1622971289008,
     "user": {
      "displayName": "Olga Gurr",
      "photoUrl": "",
      "userId": "01511282637848373828"
     },
     "user_tz": -180
    },
    "id": "Y_UBV9w4nBDy",
    "outputId": "dcff8ea5-6dac-492b-8c21-88cec70748fa"
   },
   "outputs": [
    {
     "name": "stdout",
     "output_type": "stream",
     "text": [
      "Epoch 1/100\n",
      "706/706 [==============================] - 7s 7ms/step - loss: 6.3309 - accuracy: 0.0549 - val_loss: 7.1034 - val_accuracy: 0.0719\n",
      "Epoch 2/100\n",
      "706/706 [==============================] - 5s 7ms/step - loss: 5.9429 - accuracy: 0.0559 - val_loss: 7.2967 - val_accuracy: 0.0714\n",
      "Epoch 3/100\n",
      "706/706 [==============================] - 5s 7ms/step - loss: 5.8160 - accuracy: 0.0592 - val_loss: 7.5462 - val_accuracy: 0.0487\n",
      "Epoch 4/100\n",
      "706/706 [==============================] - 5s 7ms/step - loss: 5.7051 - accuracy: 0.0698 - val_loss: 7.5686 - val_accuracy: 0.0687\n",
      "Epoch 5/100\n",
      "706/706 [==============================] - 5s 7ms/step - loss: 5.5975 - accuracy: 0.0836 - val_loss: 7.5584 - val_accuracy: 0.0813\n",
      "Epoch 6/100\n",
      "706/706 [==============================] - 5s 7ms/step - loss: 5.5018 - accuracy: 0.0930 - val_loss: 7.7494 - val_accuracy: 0.0767\n"
     ]
    }
   ],
   "source": [
    "history3 = model3.fit(predictors, label, epochs=100, validation_split=0.2, callbacks=[callback],verbose=1)"
   ]
  },
  {
   "cell_type": "markdown",
   "metadata": {
    "id": "1z6NzBoQnE6x"
   },
   "source": [
    "#### Тест"
   ]
  },
  {
   "cell_type": "code",
   "execution_count": null,
   "metadata": {
    "colab": {
     "base_uri": "https://localhost:8080/",
     "height": 545
    },
    "executionInfo": {
     "elapsed": 860,
     "status": "ok",
     "timestamp": 1622971354359,
     "user": {
      "displayName": "Olga Gurr",
      "photoUrl": "",
      "userId": "01511282637848373828"
     },
     "user_tz": -180
    },
    "id": "rMm2UXnDnGlw",
    "outputId": "dd497049-40a6-4971-cb53-b0acb2c7d5bd"
   },
   "outputs": [
    {
     "data": {
      "image/png": "[encoded data removed]",
      "text/plain": [
       "<Figure size 432x288 with 1 Axes>"
      ]
     },
     "metadata": {
      "needs_background": "light",
      "tags": []
     },
     "output_type": "display_data"
    },
    {
     "data": {
      "image/png": "[encoded data removed]",
      "text/plain": [
       "<Figure size 432x288 with 1 Axes>"
      ]
     },
     "metadata": {
      "needs_background": "light",
      "tags": []
     },
     "output_type": "display_data"
    }
   ],
   "source": [
    "import matplotlib.pyplot as plt\n",
    "acc = history3.history['accuracy']\n",
    "acc_v = history3.history['val_accuracy']\n",
    "loss = history3.history['loss']\n",
    "loss_v = history3.history['val_loss']\n",
    "\n",
    "epochs = range(len(acc))\n",
    "\n",
    "plt.plot(epochs, acc, 'b', label='Train')\n",
    "plt.plot(epochs, acc_v, 'r', label='Test')\n",
    "plt.legend()\n",
    "plt.title('accuracy')\n",
    "\n",
    "plt.figure()\n",
    "\n",
    "plt.plot(epochs, loss, 'b', label='Train')\n",
    "plt.plot(epochs, loss_v, 'r', label='Test')\n",
    "plt.title('loss')\n",
    "plt.legend()\n",
    "\n",
    "plt.show()"
   ]
  },
  {
   "cell_type": "code",
   "execution_count": null,
   "metadata": {
    "colab": {
     "base_uri": "https://localhost:8080/"
    },
    "executionInfo": {
     "elapsed": 1020,
     "status": "ok",
     "timestamp": 1622971364142,
     "user": {
      "displayName": "Olga Gurr",
      "photoUrl": "",
      "userId": "01511282637848373828"
     },
     "user_tz": -180
    },
    "id": "VoVI36OynKWS",
    "outputId": "1f3f3cc2-cede-4702-abf0-eaa109dcdb2e"
   },
   "outputs": [
    {
     "name": "stdout",
     "output_type": "stream",
     "text": [
      "[24, 5, 216, 27, 135, 7, 596, 149, 19, 1, 240]\n"
     ]
    },
    {
     "name": "stderr",
     "output_type": "stream",
     "text": [
      "/usr/local/lib/python3.7/dist-packages/tensorflow/python/keras/engine/sequential.py:455: UserWarning: `model.predict_classes()` is deprecated and will be removed after 2021-01-01. Please use instead:* `np.argmax(model.predict(x), axis=-1)`,   if your model does multi-class classification   (e.g. if it uses a `softmax` last-layer activation).* `(model.predict(x) > 0.5).astype(\"int32\")`,   if your model does binary classification   (e.g. if it uses a `sigmoid` last-layer activation).\n",
      "  warnings.warn('`model.predict_classes()` is deprecated and '\n"
     ]
    },
    {
     "name": "stdout",
     "output_type": "stream",
     "text": [
      "[24, 5, 216, 27, 135, 7, 596, 149, 19, 1, 240, 2]\n",
      "[24, 5, 216, 27, 135, 7, 596, 149, 19, 1, 240, 2, 9]\n",
      "[24, 5, 216, 27, 135, 7, 596, 149, 19, 1, 240, 2, 9, 1]\n",
      "[24, 5, 216, 27, 135, 7, 596, 149, 19, 1, 240, 2, 9, 1, 32]\n",
      "[24, 5, 216, 27, 135, 7, 596, 149, 19, 1, 240, 2, 9, 1, 32, 32]\n",
      "[24, 5, 216, 27, 135, 7, 596, 149, 19, 1, 240, 2, 9, 1, 32, 32, 32]\n",
      "[24, 5, 216, 27, 135, 7, 596, 149, 19, 1, 240, 2, 9, 1, 32, 32, 32, 32]\n",
      "[24, 5, 216, 27, 135, 7, 596, 149, 19, 1, 240, 2, 9, 1, 32, 32, 32, 32, 32]\n",
      "[24, 5, 216, 27, 135, 7, 596, 149, 19, 1, 240, 2, 9, 1, 32, 32, 32, 32, 32, 32]\n",
      "For a minute or two she stood looking at the house ’ said the little little little little little little little\n"
     ]
    }
   ],
   "source": [
    "seed_text = \"For a minute or two she stood looking at the house\"\n",
    "#seed_text = \"She is my girl, I see in my hend\"\n",
    "next_words = 10\n",
    "  \n",
    "for _ in range(next_words):\n",
    "\ttoken_list = tokenizer3.texts_to_sequences([seed_text])[0]\n",
    "\tprint(token_list)\n",
    "\ttoken_list = pad_sequences([token_list], maxlen=max_sequence_len-1, padding='pre')\n",
    "\tpredicted = model3.predict_classes(token_list, verbose=0)\n",
    "  #y_p=model.predict(token_list)\n",
    "\toutput_word = \"\"\n",
    "\ty_p=model3.predict(token_list)\n",
    "\tfor word, index in tokenizer3.word_index.items():\n",
    "\t\tif index == predicted:\n",
    "\t\t\toutput_word = word\n",
    "\t\t\tbreak\n",
    "\tseed_text += \" \" + output_word\n",
    "print(seed_text)"
   ]
  },
  {
   "cell_type": "code",
   "execution_count": null,
   "metadata": {
    "colab": {
     "base_uri": "https://localhost:8080/",
     "height": 283
    },
    "executionInfo": {
     "elapsed": 290,
     "status": "ok",
     "timestamp": 1622971371578,
     "user": {
      "displayName": "Olga Gurr",
      "photoUrl": "",
      "userId": "01511282637848373828"
     },
     "user_tz": -180
    },
    "id": "7jYmVm3GnPUc",
    "outputId": "6cbd73fc-72c8-473d-cac3-904ef23b8df3"
   },
   "outputs": [
    {
     "data": {
      "text/plain": [
       "[<matplotlib.lines.Line2D at 0x7f5e35712c10>]"
      ]
     },
     "execution_count": 105,
     "metadata": {
      "tags": []
     },
     "output_type": "execute_result"
    },
    {
     "data": {
      "image/png": "[encoded data removed]",
      "text/plain": [
       "<Figure size 432x288 with 1 Axes>"
      ]
     },
     "metadata": {
      "needs_background": "light",
      "tags": []
     },
     "output_type": "display_data"
    }
   ],
   "source": [
    "plt.plot(y_p[0,:])"
   ]
  },
  {
   "cell_type": "code",
   "execution_count": null,
   "metadata": {
    "colab": {
     "base_uri": "https://localhost:8080/"
    },
    "executionInfo": {
     "elapsed": 428,
     "status": "ok",
     "timestamp": 1622971392927,
     "user": {
      "displayName": "Olga Gurr",
      "photoUrl": "",
      "userId": "01511282637848373828"
     },
     "user_tz": -180
    },
    "id": "91P51s__nVPI",
    "outputId": "437abe95-ad4a-436f-bb7b-0111d4aa8b31"
   },
   "outputs": [
    {
     "data": {
      "text/plain": [
       "array([ 32,  67,  81,  82,  86,  87, 109, 118, 131, 132])"
      ]
     },
     "execution_count": 109,
     "metadata": {
      "tags": []
     },
     "output_type": "execute_result"
    }
   ],
   "source": [
    "ind_prob=np.where(y_p[0,:]>0.00600)[0]\n",
    "ind_prob"
   ]
  },
  {
   "cell_type": "code",
   "execution_count": null,
   "metadata": {
    "colab": {
     "base_uri": "https://localhost:8080/"
    },
    "executionInfo": {
     "elapsed": 324,
     "status": "ok",
     "timestamp": 1622971397329,
     "user": {
      "displayName": "Olga Gurr",
      "photoUrl": "",
      "userId": "01511282637848373828"
     },
     "user_tz": -180
    },
    "id": "fXOFKssEnVsN",
    "outputId": "d5b10c84-907e-4e92-9413-9ca33d6c9599"
   },
   "outputs": [
    {
     "name": "stdout",
     "output_type": "stream",
     "text": [
      "little  :  6.239563e-07\n",
      "queen  :  0.0010834115\n",
      "mock  :  0.00089746277\n",
      "turtle  :  0.0011828063\n",
      "hatter  :  0.00063289085\n",
      "gryphon  :  0.0014486867\n",
      "rabbit  :  0.0017662786\n",
      "mouse  :  0.00095835555\n",
      "duchess  :  0.00017775498\n",
      "dormouse  :  0.0013121563\n"
     ]
    }
   ],
   "source": [
    "for i,ind in enumerate(ind_prob.tolist()):\n",
    "  print(tokenizer3.index_word[ind], ' : ', y_p[0,i])"
   ]
  },
  {
   "cell_type": "markdown",
   "metadata": {
    "id": "99oWhbt2CwnJ"
   },
   "source": [
    "**Точность на тесте при различных гиперпараметрах:**\n",
    "\n",
    "* 0.0862 - LTSM с длиной словаря 10000, шириной слоя LTSM 10\n",
    "* 0.1024 - LTSM с длиной словаря 10000, шириной слоя LTSM 256\n",
    "* 0.1494 - LTSM с длиной словаря 300, шириной слоя LTSM 10\n",
    "* 0.0767 - LTSM с длиной словаря 100000, шириной слоя LTSM 10\n",
    "\n",
    "На данном датасете увеличение ширины слоя или уменьшение длины словаря приводит к повышению точности на тесте."
   ]
  },
  {
   "cell_type": "markdown",
   "metadata": {
    "id": "nnQUqc_OJL_Z"
   },
   "source": [
    "# Задание 3*\n",
    "Предложите свои варианты решения проблемы исчезающего градиента в RNN"
   ]
  },
  {
   "cell_type": "markdown",
   "metadata": {
    "id": "lS4qFObjJfh6"
   },
   "source": [
    "## Решение"
   ]
  },
  {
   "cell_type": "markdown",
   "metadata": {
    "id": "mV-8AjPbJSGD"
   },
   "source": [
    "Для обучения RNN используется специальный вариант техники обратного распространения ошибки - по времени (Backpropogation Through Time, BPTT). Из-за этого имеется проблема исчезающего градиента в RNN. Во время обратного распространения ошибки обновление веса будет очень маленьким от слоя к слою, и в какой-то момент новый вес, который нужно добавить, станет равным старому весу, поэтому изменений нет, и обучение сети затруднено.\n",
    "\n",
    "LSTM и GRU решают проблему исчезновения градиентов, так как у них есть внутренние механизмы, называемые ворота (gate), которые могут регулировать поток информации.\n",
    "\n",
    "1. В LTSM:\n",
    "* Ворота забывания (forget gate) решают, что следует сохранить от предыдущих шагов. \n",
    "* Входные ворота (input gate) решают, какую информацию добавить к текущему шагу. \n",
    "* Выходные ворота (output gate) определяют, каким должно быть следующее скрытое состояние.\n",
    "\n",
    "2. В GRU  есть только два типа ворот:\n",
    "* Ворота обновления (update gate) действуют аналогично воротам забывания и входным воротам в LSTM, они решают, какую информацию сохранить, а какую выбросить, и какую новую информацию добавить.\n",
    "* Ворота сброса (reset gate) используются, чтобы решить, какую часть прошлой информации следует забыть.\n",
    "\n",
    "С помощью вышеуказанных механизмов информация сохраняется для последующего использования, тем самым предотвращая постепенное затухание старых сигналов во время обработки.\n",
    "\n"
   ]
  },
  {
   "cell_type": "code",
   "execution_count": null,
   "metadata": {
    "id": "PS4OKTSdnBNG"
   },
   "outputs": [],
   "source": []
  }
 ],
 "metadata": {
  "accelerator": "GPU",
  "colab": {
   "collapsed_sections": [],
   "name": "114_hw_5.ipynb",
   "provenance": [],
   "toc_visible": true
  },
  "kernelspec": {
   "display_name": "Python 3 (ipykernel)",
   "language": "python",
   "name": "python3"
  },
  "language_info": {
   "codemirror_mode": {
    "name": "ipython",
    "version": 3
   },
   "file_extension": ".py",
   "mimetype": "text/x-python",
   "name": "python",
   "nbconvert_exporter": "python",
   "pygments_lexer": "ipython3",
   "version": "3.9.7"
  }
 },
 "nbformat": 4,
 "nbformat_minor": 1
}
